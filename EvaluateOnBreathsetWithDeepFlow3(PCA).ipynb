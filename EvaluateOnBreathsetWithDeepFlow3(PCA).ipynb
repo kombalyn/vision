{
  "nbformat": 4,
  "nbformat_minor": 0,
  "metadata": {
    "colab": {
      "name": "EvaluateOnBreathsetWithDeepFlow3(PCA).ipynb",
      "provenance": [],
      "collapsed_sections": [],
      "include_colab_link": true
    },
    "kernelspec": {
      "name": "python3",
      "display_name": "Python 3"
    },
    "accelerator": "GPU"
  },
  "cells": [
    {
      "cell_type": "markdown",
      "metadata": {
        "id": "view-in-github",
        "colab_type": "text"
      },
      "source": [
        "<a href=\"https://colab.research.google.com/github/kombalyn/vision/blob/master/EvaluateOnBreathsetWithDeepFlow3(PCA).ipynb\" target=\"_parent\"><img src=\"https://colab.research.google.com/assets/colab-badge.svg\" alt=\"Open In Colab\"/></a>"
      ]
    },
    {
      "cell_type": "code",
      "metadata": {
        "id": "7KPcZ-THNrCj",
        "colab": {
          "base_uri": "https://localhost:8080/"
        },
        "outputId": "7c41ec68-d1d5-428b-be9b-65dfe2eb22a1"
      },
      "source": [
        "import os\n",
        "from google.colab import drive\n",
        "drive.mount('/content/drive')\n",
        "os.chdir(\"/content/drive/My Drive/\")"
      ],
      "execution_count": 1,
      "outputs": [
        {
          "output_type": "stream",
          "text": [
            "Mounted at /content/drive\n"
          ],
          "name": "stdout"
        }
      ]
    },
    {
      "cell_type": "code",
      "metadata": {
        "id": "RYTsC7l9dN8b"
      },
      "source": [
        "from importlib.machinery import SourceFileLoader\n",
        "methods = SourceFileLoader('methods', '/content/drive/My Drive/methods.py').load_module()"
      ],
      "execution_count": 2,
      "outputs": []
    },
    {
      "cell_type": "code",
      "metadata": {
        "id": "SGkE7Xm_YcX0",
        "colab": {
          "base_uri": "https://localhost:8080/"
        },
        "outputId": "0b6dbf4b-a990-442a-bdb8-feef939fb9ad"
      },
      "source": [
        "%tensorflow_version 1.x\n",
        "import tensorflow as tf\n",
        "import numpy as np\n",
        "import matplotlib.pyplot as plt\n",
        "import random\n",
        "import cv2\n",
        "import pickle\n",
        "import h5py\n",
        "\n",
        "from methods import AverageSmooth\n",
        "from methods import RMSE\n",
        "from methods import CrossCorrelation\n",
        "from methods import calcFurierTransform\n",
        "from methods import MAE\n",
        "from methods import wBasedPearson"
      ],
      "execution_count": 3,
      "outputs": [
        {
          "output_type": "stream",
          "text": [
            "TensorFlow 1.x selected.\n"
          ],
          "name": "stdout"
        }
      ]
    },
    {
      "cell_type": "markdown",
      "metadata": {
        "id": "QBTHPSuDJE5P"
      },
      "source": [
        "# Definitions"
      ]
    },
    {
      "cell_type": "code",
      "metadata": {
        "id": "JQ_nSB6tWOip"
      },
      "source": [
        "wd = 200\n",
        "FPS = 20"
      ],
      "execution_count": 4,
      "outputs": []
    },
    {
      "cell_type": "code",
      "metadata": {
        "id": "H0h4pFIcksGg"
      },
      "source": [
        "'''\n",
        "Load in signal from file\n",
        "'''\n",
        "def readFromFile(path,filename,signal):\n",
        "  print(\"Save to this file:\"+path+filename)\n",
        "  print(\"...\")\n",
        "  print(\"saved\")\n",
        "  with open(path+filename,\"r\") as ins:\n",
        "    lines = ins.readlines()\n",
        "    for line in lines:\n",
        "      signal.append(float(line))\n",
        "  return np.asarray(signal)"
      ],
      "execution_count": 5,
      "outputs": []
    },
    {
      "cell_type": "code",
      "metadata": {
        "id": "HurjiPYEyD16"
      },
      "source": [
        "'''\n",
        "save signal to file\n",
        "'''\n",
        "def saveToFile(path,filename,signal):\n",
        "  print(\"Save to this file:\"+path+filename)\n",
        "  print(\"...\")\n",
        "  print(\"saved\")\n",
        "  with open(path+filename,\"w\") as o:\n",
        "    for i in range(len(signal)):\n",
        "      o.write(str(signal[i]))\n",
        "      o.write(\"\\n\")"
      ],
      "execution_count": 6,
      "outputs": []
    },
    {
      "cell_type": "code",
      "metadata": {
        "id": "vpfVr5HAS6dH"
      },
      "source": [
        "def loadSignalSet(path,set):\n",
        "  ujset = []\n",
        "  with open(path,'r') as ins:\n",
        "    lines = ins.readlines()\n",
        "    for line in lines:\n",
        "      values = line.split(',')\n",
        "      values = values[:-1] # At the end we have an extra ','\n",
        "      row = []\n",
        "      for val in values:\n",
        "        row.append(float(val))\n",
        "      ujset.append(row)\n",
        "  return np.asarray(ujset)"
      ],
      "execution_count": 7,
      "outputs": []
    },
    {
      "cell_type": "code",
      "metadata": {
        "id": "KyObquYbVc5Q"
      },
      "source": [
        "def makeTresholdCurve(sig,division):\n",
        "    tresholds = []\n",
        "    for i in range(0,len(sig),division):\n",
        "        window = sig[i:(i+division)]\n",
        "        act_avg = np.average(window)\n",
        "        for j in range(division):\n",
        "            tresholds.append(act_avg)\n",
        "    return tresholds\n",
        "\n",
        "def tresholdByCurve(sig,tresholds,division,avg):\n",
        "    newsig = []\n",
        "    for i in range(0,len(sig),20):\n",
        "        window = sig[i:(i+20)]\n",
        "        trh = tresholds[i+10]\n",
        "        window[window<trh] = avg\n",
        "        newsig.append(np.asarray(window))\n",
        "    newsig = np.asarray(newsig)\n",
        "    newsig = newsig.flatten()\n",
        "    sig = newsig\n",
        "    return sig\n",
        "\n",
        "def calcTreshold2(window,avg):\n",
        "    upper = []\n",
        "    for i in range(1,len(window)):\n",
        "        if window[i-1]<=avg:\n",
        "            if avg<window[i]:\n",
        "                upper.append(i)\n",
        "    return upper\n",
        "\n",
        "def calcRate(sig):\n",
        "    tresholds = makeTresholdCurve(sig,20)\n",
        "    \n",
        "    # Calculate avg:\n",
        "    avg = np.average(sig)\n",
        "    \n",
        "    # treshold by the treshold curve:\n",
        "    sig = tresholdByCurve(sig,tresholds,20,avg)\n",
        "    \n",
        "    # Binarization\n",
        "    sig[avg<sig] = 1  \n",
        "    sig[sig<avg] = avg\n",
        "    \n",
        "    # relative treshold set by avg:\n",
        "    upper = calcTreshold2(sig,avg)\n",
        "\n",
        "    return (len(upper)/(wd/FPS))*60"
      ],
      "execution_count": 8,
      "outputs": []
    },
    {
      "cell_type": "markdown",
      "metadata": {
        "id": "F5jQCXwej7nc"
      },
      "source": [
        "# Load Data"
      ]
    },
    {
      "cell_type": "code",
      "metadata": {
        "id": "EtSC_mIKGy_L"
      },
      "source": [
        "# '''\n",
        "# Load the calculated signal\n",
        "# '''\n",
        "# signal=[]\n",
        "# signal = loadSignalSet(\"output/MixedDataset3\",signal)\n",
        "# print(signal.shape)"
      ],
      "execution_count": 9,
      "outputs": []
    },
    {
      "cell_type": "code",
      "metadata": {
        "id": "zR7sONjvHgBa"
      },
      "source": [
        "# '''\n",
        "# Load the calculated signal\n",
        "# '''\n",
        "# reference = []\n",
        "# reference = readFromFile(\"output/\",\"MixedDataset_ref3\",reference)\n",
        "# print(reference.shape)"
      ],
      "execution_count": 10,
      "outputs": []
    },
    {
      "cell_type": "code",
      "metadata": {
        "id": "lpufpISpGfti"
      },
      "source": [
        "'''\n",
        "Load the calculated signal\n",
        "'''\n",
        "optflowsig = []\n",
        "with  open(\"deepFlowPCA.txt\",\"r\") as ins:\n",
        "  lines = ins.readlines()\n",
        "  for line in lines:\n",
        "    optflowsig.append(float(line))\n",
        "#optflowsig = np.asarray(optflowsig)\n",
        "optflowsig = np.asarray(optflowsig)"
      ],
      "execution_count": 11,
      "outputs": []
    },
    {
      "cell_type": "code",
      "metadata": {
        "id": "4jGoomj7G5rB"
      },
      "source": [
        "'''\n",
        "Load the calculated signal\n",
        "'''\n",
        "refflow = []\n",
        "with  open(\"reference.txt\",\"r\") as ins:\n",
        "  lines = ins.readlines()\n",
        "  for line in lines:\n",
        "    refflow.append(float(line))\n",
        "refflow = np.asarray(refflow)"
      ],
      "execution_count": 12,
      "outputs": []
    },
    {
      "cell_type": "code",
      "metadata": {
        "colab": {
          "base_uri": "https://localhost:8080/",
          "height": 317
        },
        "id": "l1RbNscrB3Bh",
        "outputId": "b0673b72-3a45-4890-f315-818ab2ce3cc1"
      },
      "source": [
        "print(len(optflowsig))\n",
        "print(len(refflow))\n",
        "plt.plot(refflow)"
      ],
      "execution_count": 13,
      "outputs": [
        {
          "output_type": "stream",
          "text": [
            "99119\n",
            "99121\n"
          ],
          "name": "stdout"
        },
        {
          "output_type": "execute_result",
          "data": {
            "text/plain": [
              "[<matplotlib.lines.Line2D at 0x7fddcbd8f198>]"
            ]
          },
          "metadata": {
            "tags": []
          },
          "execution_count": 13
        },
        {
          "output_type": "display_data",
          "data": {
            "image/png": "[encoded data removed]",
            "text/plain": [
              "<Figure size 432x288 with 1 Axes>"
            ]
          },
          "metadata": {
            "tags": [],
            "needs_background": "light"
          }
        }
      ]
    },
    {
      "cell_type": "code",
      "metadata": {
        "id": "oI2_ZUDjY0L7"
      },
      "source": [
        "def findLocalMaximas(sig,horizontal_treshold):\n",
        "  places = []\n",
        "  places.append(0)\n",
        "  for i in range(1,len(sig)-1):\n",
        "    if(sig[i-1]<sig[i] and sig[i+1]<sig[i]):\n",
        "      if (horizontal_treshold<abs(i-places[-1])):\n",
        "        places.append(i)\n",
        "      else:\n",
        "        if (sig[places[-1]]<sig[i]):\n",
        "          places[-1]=i\n",
        "  #places = places[1:]\n",
        "  return np.asarray(places)"
      ],
      "execution_count": 14,
      "outputs": []
    },
    {
      "cell_type": "code",
      "metadata": {
        "id": "ZLykJIlCY_eF"
      },
      "source": [
        "def diffRate(maxes):\n",
        "  diffs = []\n",
        "  for i in range(1,len(maxes)):\n",
        "    diffs.append(maxes[i]-maxes[i-1])\n",
        "  return (1.0/(np.mean(diffs)/20.0))*60.0"
      ],
      "execution_count": 16,
      "outputs": []
    },
    {
      "cell_type": "markdown",
      "metadata": {
        "id": "C0W24tlxYLxP"
      },
      "source": [
        "# Band Pass Filtering"
      ]
    },
    {
      "cell_type": "code",
      "metadata": {
        "id": "5QWI9z2BYaKe"
      },
      "source": [
        "# Sample rate and desired cutoff frequencies (in Hz).\n",
        "fs = 20.0\n",
        "lowcut = 1/6\n",
        "highcut = 2"
      ],
      "execution_count": 17,
      "outputs": []
    },
    {
      "cell_type": "code",
      "metadata": {
        "id": "FA6H0uFuYexr"
      },
      "source": [
        "from scipy.signal import butter, lfilter\n",
        "\n",
        "def butter_bandpass(lowcut, highcut, fs, order=5):\n",
        "    nyq = 0.5 * fs\n",
        "    low = lowcut / nyq\n",
        "    high = highcut / nyq\n",
        "    b, a = butter(order, [low, high], btype='band')\n",
        "    return b, a\n",
        "\n",
        "def butter_bandpass_filter(data, lowcut, highcut, fs, order=5):\n",
        "    b, a = butter_bandpass(lowcut, highcut, fs, order=order)\n",
        "    y = lfilter(b, a, data)\n",
        "    return y"
      ],
      "execution_count": 18,
      "outputs": []
    },
    {
      "cell_type": "code",
      "metadata": {
        "id": "k4aLACwNY1PV"
      },
      "source": [
        "optflowsig = butter_bandpass_filter(optflowsig, lowcut, highcut, fs, order=6)"
      ],
      "execution_count": 19,
      "outputs": []
    },
    {
      "cell_type": "code",
      "metadata": {
        "colab": {
          "base_uri": "https://localhost:8080/",
          "height": 282
        },
        "id": "d6Bi4cbiXSGF",
        "outputId": "235cfcfa-071b-4cb2-b1a1-9c270cc51c11"
      },
      "source": [
        "plt.plot(optflowsig)"
      ],
      "execution_count": 20,
      "outputs": [
        {
          "output_type": "execute_result",
          "data": {
            "text/plain": [
              "[<matplotlib.lines.Line2D at 0x7fddcbbe9b70>]"
            ]
          },
          "metadata": {
            "tags": []
          },
          "execution_count": 20
        },
        {
          "output_type": "display_data",
          "data": {
            "image/png": "[encoded data removed]",
            "text/plain": [
              "<Figure size 432x288 with 1 Axes>"
            ]
          },
          "metadata": {
            "tags": [],
            "needs_background": "light"
          }
        }
      ]
    },
    {
      "cell_type": "markdown",
      "metadata": {
        "id": "bQM3zzRZYl9l"
      },
      "source": [
        "# Reshape signals to [wd,wd]"
      ]
    },
    {
      "cell_type": "code",
      "metadata": {
        "id": "mwYE3eaQYtvb",
        "colab": {
          "base_uri": "https://localhost:8080/"
        },
        "outputId": "76db52d6-cd40-42f4-a0df-7525bc02e32e"
      },
      "source": [
        "signal = []\n",
        "for i in range(0,len(optflowsig),200):\n",
        "  seq = optflowsig[i:(i+200)]\n",
        "  if (len(seq)==200):\n",
        "    signal.append(seq)\n",
        "signal = np.asarray(signal)\n",
        "print(signal.shape)"
      ],
      "execution_count": 21,
      "outputs": [
        {
          "output_type": "stream",
          "text": [
            "(495, 200)\n"
          ],
          "name": "stdout"
        }
      ]
    },
    {
      "cell_type": "code",
      "metadata": {
        "id": "4y4YllkhYxXc",
        "colab": {
          "base_uri": "https://localhost:8080/"
        },
        "outputId": "2d6b1cca-ff58-4576-864b-e42af419aabf"
      },
      "source": [
        "reference = []\n",
        "for i in range(0,len(refflow),200):\n",
        "  seq = refflow[i:(i+200)]\n",
        "  if (len(seq)==200):\n",
        "    reference.append(seq[100])\n",
        "reference = np.asarray(reference)\n",
        "print(reference.shape)"
      ],
      "execution_count": 22,
      "outputs": [
        {
          "output_type": "stream",
          "text": [
            "(495,)\n"
          ],
          "name": "stdout"
        }
      ]
    },
    {
      "cell_type": "code",
      "metadata": {
        "id": "q2psx2_9XZbL"
      },
      "source": [
        "signal = signal[:len(reference)]"
      ],
      "execution_count": 23,
      "outputs": []
    },
    {
      "cell_type": "code",
      "metadata": {
        "colab": {
          "base_uri": "https://localhost:8080/"
        },
        "id": "Vd9MTEpiXjfh",
        "outputId": "30859778-c0bf-4967-bbc4-1902a6205d68"
      },
      "source": [
        "print(signal.shape)"
      ],
      "execution_count": 24,
      "outputs": [
        {
          "output_type": "stream",
          "text": [
            "(495, 200)\n"
          ],
          "name": "stdout"
        }
      ]
    },
    {
      "cell_type": "markdown",
      "metadata": {
        "id": "3bhgwYgX-Sr9"
      },
      "source": [
        "# Demo"
      ]
    },
    {
      "cell_type": "code",
      "metadata": {
        "id": "YxlRndABytT9"
      },
      "source": [
        "def mynorm(sig):\n",
        "  avg = np.mean(sig)\n",
        "  sig = sig - np.ones_like(sig)*avg\n",
        "  sig = sig / np.max(sig)\n",
        "  return sig"
      ],
      "execution_count": 25,
      "outputs": []
    },
    {
      "cell_type": "code",
      "metadata": {
        "id": "yiw7Ykn4rZBF"
      },
      "source": [
        "import time"
      ],
      "execution_count": 26,
      "outputs": []
    },
    {
      "cell_type": "code",
      "metadata": {
        "id": "JfLJnuomJ864",
        "colab": {
          "base_uri": "https://localhost:8080/"
        },
        "outputId": "4de03fb0-9cd7-4282-80f2-77db314c971d"
      },
      "source": [
        "output_rates = []\n",
        "refs = []\n",
        "for i in range(0,len(signal)):\n",
        "  sig = np.asarray(mynorm(signal[i]))\n",
        "  sig = np.reshape(sig, [1,wd])\n",
        "  t0= time.clock()\n",
        "  maxes = findLocalMaximas(sig,8)\n",
        "  #r =  diffRate(maxes)\n",
        "  r =  calcRate(sig)\n",
        "  t1 = time.clock()\n",
        "  print(\"Time elapsed: \", t1 - t0) # CPU seconds elapsed (floating point)\n",
        "  output_rates.append(r)\n",
        "  refs.append(reference[i])\n",
        "\n",
        "  #refs.append(np.mean(reference_train[i:i+wd]))"
      ],
      "execution_count": null,
      "outputs": [
        {
          "output_type": "stream",
          "text": [
            "Time elapsed:  0.00025399999999997647\n",
            "Time elapsed:  0.00023600000000101318\n",
            "Time elapsed:  0.00026000000000081513\n",
            "Time elapsed:  0.0002579999999987592\n",
            "Time elapsed:  0.0002479999999991378\n",
            "Time elapsed:  0.00027500000000024727\n",
            "Time elapsed:  0.00023499999999998522\n",
            "Time elapsed:  0.00025300000000072487\n",
            "Time elapsed:  0.00024099999999904753\n",
            "Time elapsed:  0.0002580000000005356\n",
            "Time elapsed:  0.00023999999999979593\n",
            "Time elapsed:  0.00027099999999968816\n",
            "Time elapsed:  0.0002620000000010947\n",
            "Time elapsed:  0.00022799999999989495\n",
            "Time elapsed:  0.00025099999999866895\n",
            "Time elapsed:  0.0002720000000007161\n",
            "Time elapsed:  0.00023700000000026478\n",
            "Time elapsed:  0.00029799999999902127\n",
            "Time elapsed:  0.00035000000000096065\n",
            "Time elapsed:  0.00031899999999929207\n",
            "Time elapsed:  0.0003339999999987242\n",
            "Time elapsed:  0.0003390000000003113\n",
            "Time elapsed:  0.00030999999999892225\n",
            "Time elapsed:  0.0003430000000008704\n",
            "Time elapsed:  0.00037399999999898625\n",
            "Time elapsed:  0.00025499999999922807\n",
            "Time elapsed:  0.00025300000000072487\n",
            "Time elapsed:  0.00027599999999949887\n",
            "Time elapsed:  0.00023799999999951638\n",
            "Time elapsed:  0.00023899999999876798\n",
            "Time elapsed:  0.0002510000000004453\n",
            "Time elapsed:  0.00023600000000101318\n",
            "Time elapsed:  0.00023700000000026478\n",
            "Time elapsed:  0.0002460000000006346\n",
            "Time elapsed:  0.0002519999999996969\n",
            "Time elapsed:  0.00026599999999987745\n",
            "Time elapsed:  0.00023999999999979593\n",
            "Time elapsed:  0.00024099999999904753\n",
            "Time elapsed:  0.00024800000000091416\n",
            "Time elapsed:  0.00024800000000091416\n",
            "Time elapsed:  0.0002720000000007161\n",
            "Time elapsed:  0.0002620000000010947\n",
            "Time elapsed:  0.00028600000000089665\n",
            "Time elapsed:  0.0002500000000011937\n",
            "Time elapsed:  0.0002639999999995979\n",
            "Time elapsed:  0.00026100000000006673\n",
            "Time elapsed:  0.000256000000000256\n",
            "Time elapsed:  0.00026699999999912905\n",
            "Time elapsed:  0.00025399999999997647\n",
            "Time elapsed:  0.00022300000000008424\n",
            "Time elapsed:  0.0002309999999994261\n",
            "Time elapsed:  0.0002319999999986777\n",
            "Time elapsed:  0.00023700000000026478\n",
            "Time elapsed:  0.00023499999999998522\n",
            "Time elapsed:  0.0002420000000000755\n",
            "Time elapsed:  0.00023299999999970566\n",
            "Time elapsed:  0.00026100000000006673\n",
            "Time elapsed:  0.00023600000000101318\n",
            "Time elapsed:  0.00023599999999923682\n",
            "Time elapsed:  0.00023900000000054433\n",
            "Time elapsed:  0.00024700000000166256\n",
            "Time elapsed:  0.00024300000000110344\n",
            "Time elapsed:  0.0002460000000006346\n",
            "Time elapsed:  0.00023599999999923682\n",
            "Time elapsed:  0.00024900000000016576\n",
            "Time elapsed:  0.00025499999999922807\n",
            "Time elapsed:  0.00023299999999970566\n",
            "Time elapsed:  0.00025300000000072487\n",
            "Time elapsed:  0.00024999999999941735\n",
            "Time elapsed:  0.00023599999999923682\n",
            "Time elapsed:  0.0002469999999998862\n",
            "Time elapsed:  0.0002529999999989485\n",
            "Time elapsed:  0.0003580000000003025\n",
            "Time elapsed:  0.0002410000000008239\n",
            "Time elapsed:  0.00025399999999997647\n",
            "Time elapsed:  0.00024400000000035504\n",
            "Time elapsed:  0.0002580000000005356\n",
            "Time elapsed:  0.00024499999999960664\n",
            "Time elapsed:  0.0002809999999993096\n",
            "Time elapsed:  0.000245000000001383\n",
            "Time elapsed:  0.0002500000000011937\n",
            "Time elapsed:  0.00024300000000110344\n",
            "Time elapsed:  0.000245000000001383\n",
            "Time elapsed:  0.0002429999999993271\n",
            "Time elapsed:  0.00024499999999960664\n",
            "Time elapsed:  0.00024099999999904753\n",
            "Time elapsed:  0.0002420000000000755\n",
            "Time elapsed:  0.00023799999999951638\n",
            "Time elapsed:  0.00025399999999997647\n",
            "Time elapsed:  0.0002770000000005268\n",
            "Time elapsed:  0.00024800000000091416\n",
            "Time elapsed:  0.0002510000000004453\n",
            "Time elapsed:  0.0002429999999993271\n",
            "Time elapsed:  0.00023700000000026478\n",
            "Time elapsed:  0.00023599999999923682\n",
            "Time elapsed:  0.0002410000000008239\n",
            "Time elapsed:  0.00023499999999998522\n",
            "Time elapsed:  0.0002589999999997872\n",
            "Time elapsed:  0.0002859999999991203\n",
            "Time elapsed:  0.00023400000000073362\n",
            "Time elapsed:  0.00023400000000073362\n",
            "Time elapsed:  0.00024300000000110344\n",
            "Time elapsed:  0.00023799999999951638\n",
            "Time elapsed:  0.0002469999999998862\n",
            "Time elapsed:  0.00025399999999997647\n",
            "Time elapsed:  0.00023799999999951638\n",
            "Time elapsed:  0.0005020000000008906\n",
            "Time elapsed:  0.00025099999999866895\n",
            "Time elapsed:  0.00023599999999923682\n",
            "Time elapsed:  0.00027000000000043656\n",
            "Time elapsed:  0.000280000000000058\n",
            "Time elapsed:  0.0002519999999996969\n",
            "Time elapsed:  0.0002589999999997872\n",
            "Time elapsed:  0.0002420000000000755\n",
            "Time elapsed:  0.00022199999999905629\n",
            "Time elapsed:  0.00023700000000026478\n",
            "Time elapsed:  0.00024900000000016576\n",
            "Time elapsed:  0.00024499999999960664\n",
            "Time elapsed:  0.00024099999999904753\n",
            "Time elapsed:  0.00029199999999995896\n",
            "Time elapsed:  0.0002420000000000755\n",
            "Time elapsed:  0.00023700000000026478\n",
            "Time elapsed:  0.0002720000000007161\n",
            "Time elapsed:  0.00023799999999951638\n",
            "Time elapsed:  0.0002630000000003463\n",
            "Time elapsed:  0.00030899999999967065\n",
            "Time elapsed:  0.0002779999999997784\n",
            "Time elapsed:  0.00023900000000054433\n",
            "Time elapsed:  0.00023899999999876798\n",
            "Time elapsed:  0.0002469999999998862\n",
            "Time elapsed:  0.00023700000000026478\n",
            "Time elapsed:  0.00023999999999979593\n",
            "Time elapsed:  0.0002500000000011937\n",
            "Time elapsed:  0.00023299999999970566\n",
            "Time elapsed:  0.00023700000000026478\n",
            "Time elapsed:  0.0002779999999997784\n",
            "Time elapsed:  0.00023900000000054433\n",
            "Time elapsed:  0.00025300000000072487\n",
            "Time elapsed:  0.0003150000000005093\n",
            "Time elapsed:  0.00025300000000072487\n",
            "Time elapsed:  0.00024499999999960664\n",
            "Time elapsed:  0.0002529999999989485\n",
            "Time elapsed:  0.0002620000000010947\n",
            "Time elapsed:  0.0002670000000009054\n",
            "Time elapsed:  0.0002760000000012752\n",
            "Time elapsed:  0.000256000000000256\n",
            "Time elapsed:  0.000268000000000157\n",
            "Time elapsed:  0.0002479999999991378\n",
            "Time elapsed:  0.00025300000000072487\n",
            "Time elapsed:  0.00024099999999904753\n",
            "Time elapsed:  0.00023600000000101318\n",
            "Time elapsed:  0.00023499999999998522\n",
            "Time elapsed:  0.000256000000000256\n",
            "Time elapsed:  0.0002579999999987592\n",
            "Time elapsed:  0.0002569999999995076\n",
            "Time elapsed:  0.00024499999999960664\n",
            "Time elapsed:  0.0002410000000008239\n",
            "Time elapsed:  0.00026100000000006673\n",
            "Time elapsed:  0.00024099999999904753\n",
            "Time elapsed:  0.0002529999999989485\n",
            "Time elapsed:  0.0002579999999987592\n",
            "Time elapsed:  0.0002469999999998862\n",
            "Time elapsed:  0.00026199999999931833\n",
            "Time elapsed:  0.00023399999999895726\n",
            "Time elapsed:  0.00027000000000043656\n",
            "Time elapsed:  0.0002519999999996969\n",
            "Time elapsed:  0.0002819999999985612\n",
            "Time elapsed:  0.00023300000000148202\n",
            "Time elapsed:  0.0002420000000000755\n",
            "Time elapsed:  0.00023900000000054433\n",
            "Time elapsed:  0.00024999999999941735\n",
            "Time elapsed:  0.00024499999999960664\n",
            "Time elapsed:  0.00024900000000016576\n",
            "Time elapsed:  0.00023400000000073362\n",
            "Time elapsed:  0.00023600000000101318\n",
            "Time elapsed:  0.00024300000000110344\n",
            "Time elapsed:  0.0002429999999993271\n",
            "Time elapsed:  0.00023200000000045407\n",
            "Time elapsed:  0.00023299999999970566\n",
            "Time elapsed:  0.0002849999999998687\n",
            "Time elapsed:  0.00023400000000073362\n",
            "Time elapsed:  0.0002479999999991378\n",
            "Time elapsed:  0.0002410000000008239\n",
            "Time elapsed:  0.00023700000000026478\n",
            "Time elapsed:  0.0002429999999993271\n",
            "Time elapsed:  0.0002469999999998862\n",
            "Time elapsed:  0.00024400000000035504\n",
            "Time elapsed:  0.00026599999999987745\n",
            "Time elapsed:  0.00025200000000147327\n",
            "Time elapsed:  0.00023399999999895726\n",
            "Time elapsed:  0.00023299999999970566\n",
            "Time elapsed:  0.00023600000000101318\n",
            "Time elapsed:  0.00023599999999923682\n",
            "Time elapsed:  0.00024099999999904753\n",
            "Time elapsed:  0.00023299999999970566\n",
            "Time elapsed:  0.00025399999999997647\n",
            "Time elapsed:  0.00022600000000139175\n",
            "Time elapsed:  0.00023699999999848842\n",
            "Time elapsed:  0.0002510000000004453\n",
            "Time elapsed:  0.00023299999999970566\n",
            "Time elapsed:  0.00022700000000064335\n",
            "Time elapsed:  0.00023499999999998522\n",
            "Time elapsed:  0.00023799999999951638\n",
            "Time elapsed:  0.0002439999999985787\n",
            "Time elapsed:  0.0002309999999994261\n",
            "Time elapsed:  0.00025300000000072487\n",
            "Time elapsed:  0.0002930000000009869\n",
            "Time elapsed:  0.00024499999999960664\n",
            "Time elapsed:  0.0003000000000010772\n",
            "Time elapsed:  0.0002580000000005356\n",
            "Time elapsed:  0.0002410000000008239\n",
            "Time elapsed:  0.00025300000000072487\n",
            "Time elapsed:  0.00024300000000110344\n",
            "Time elapsed:  0.00023700000000026478\n",
            "Time elapsed:  0.00026599999999987745\n",
            "Time elapsed:  0.0002550000000010044\n",
            "Time elapsed:  0.00023900000000054433\n",
            "Time elapsed:  0.0002300000000001745\n",
            "Time elapsed:  0.000280000000000058\n",
            "Time elapsed:  0.0003079999999986427\n",
            "Time elapsed:  0.0002670000000009054\n",
            "Time elapsed:  0.0002460000000006346\n",
            "Time elapsed:  0.00026100000000006673\n",
            "Time elapsed:  0.0002529999999989485\n",
            "Time elapsed:  0.00023400000000073362\n",
            "Time elapsed:  0.0002460000000006346\n",
            "Time elapsed:  0.00024400000000035504\n",
            "Time elapsed:  0.0002599999999990388\n",
            "Time elapsed:  0.00024300000000110344\n",
            "Time elapsed:  0.00024499999999960664\n",
            "Time elapsed:  0.0002420000000000755\n",
            "Time elapsed:  0.0002589999999997872\n",
            "Time elapsed:  0.0002510000000004453\n",
            "Time elapsed:  0.0002429999999993271\n",
            "Time elapsed:  0.0002630000000003463\n",
            "Time elapsed:  0.0002729999999999677\n",
            "Time elapsed:  0.00023799999999951638\n",
            "Time elapsed:  0.00024800000000091416\n",
            "Time elapsed:  0.00023800000000129273\n",
            "Time elapsed:  0.000257000000001284\n",
            "Time elapsed:  0.0002670000000009054\n",
            "Time elapsed:  0.0002550000000010044\n",
            "Time elapsed:  0.00024599999999885824\n",
            "Time elapsed:  0.0002410000000008239\n",
            "Time elapsed:  0.0002580000000005356\n",
            "Time elapsed:  0.00027099999999968816\n",
            "Time elapsed:  0.00023499999999998522\n",
            "Time elapsed:  0.00023600000000101318\n",
            "Time elapsed:  0.00024900000000016576\n",
            "Time elapsed:  0.00024499999999960664\n",
            "Time elapsed:  0.00023599999999923682\n",
            "Time elapsed:  0.00025499999999922807\n",
            "Time elapsed:  0.00031899999999929207\n",
            "Time elapsed:  0.0002500000000011937\n",
            "Time elapsed:  0.00023900000000054433\n",
            "Time elapsed:  0.0002429999999993271\n",
            "Time elapsed:  0.0002519999999996969\n",
            "Time elapsed:  0.00023700000000026478\n",
            "Time elapsed:  0.00023600000000101318\n",
            "Time elapsed:  0.00023499999999998522\n",
            "Time elapsed:  0.0002420000000000755\n",
            "Time elapsed:  0.00026000000000081513\n",
            "Time elapsed:  0.00022600000000139175\n",
            "Time elapsed:  0.0002300000000001745\n",
            "Time elapsed:  0.0002550000000010044\n",
            "Time elapsed:  0.00023900000000054433\n",
            "Time elapsed:  0.00023700000000026478\n",
            "Time elapsed:  0.0002259999999996154\n",
            "Time elapsed:  0.00023700000000026478\n",
            "Time elapsed:  0.00024800000000091416\n",
            "Time elapsed:  0.00023699999999848842\n",
            "Time elapsed:  0.00024099999999904753\n",
            "Time elapsed:  0.00025399999999997647\n",
            "Time elapsed:  0.00024099999999904753\n",
            "Time elapsed:  0.00023599999999923682\n",
            "Time elapsed:  0.00023499999999998522\n",
            "Time elapsed:  0.0002479999999991378\n",
            "Time elapsed:  0.00023399999999895726\n",
            "Time elapsed:  0.00024400000000035504\n",
            "Time elapsed:  0.0002620000000010947\n",
            "Time elapsed:  0.0002309999999994261\n",
            "Time elapsed:  0.00024999999999941735\n",
            "Time elapsed:  0.00023400000000073362\n",
            "Time elapsed:  0.0002429999999993271\n",
            "Time elapsed:  0.00024400000000035504\n",
            "Time elapsed:  0.00023599999999923682\n",
            "Time elapsed:  0.00023499999999998522\n",
            "Time elapsed:  0.0002579999999987592\n",
            "Time elapsed:  0.00033400000000050056\n",
            "Time elapsed:  0.0002550000000010044\n",
            "Time elapsed:  0.0002479999999991378\n",
            "Time elapsed:  0.00023599999999923682\n",
            "Time elapsed:  0.00025900000000156354\n",
            "Time elapsed:  0.00023599999999923682\n",
            "Time elapsed:  0.00024099999999904753\n",
            "Time elapsed:  0.0002420000000000755\n",
            "Time elapsed:  0.00025399999999997647\n",
            "Time elapsed:  0.0002460000000006346\n",
            "Time elapsed:  0.00024400000000035504\n",
            "Time elapsed:  0.00024499999999960664\n",
            "Time elapsed:  0.0002729999999999677\n",
            "Time elapsed:  0.00023999999999979593\n",
            "Time elapsed:  0.0002469999999998862\n",
            "Time elapsed:  0.00024499999999960664\n",
            "Time elapsed:  0.00023999999999979593\n",
            "Time elapsed:  0.0002609999999982904\n",
            "Time elapsed:  0.00023900000000054433\n",
            "Time elapsed:  0.00023799999999951638\n",
            "Time elapsed:  0.0002599999999990388\n",
            "Time elapsed:  0.00023299999999970566\n",
            "Time elapsed:  0.0002500000000011937\n",
            "Time elapsed:  0.00027599999999949887\n",
            "Time elapsed:  0.0002589999999997872\n",
            "Time elapsed:  0.0002779999999997784\n",
            "Time elapsed:  0.00022899999999914655\n",
            "Time elapsed:  0.000268000000000157\n",
            "Time elapsed:  0.0002309999999994261\n",
            "Time elapsed:  0.00024400000000035504\n",
            "Time elapsed:  0.0002689999999994086\n",
            "Time elapsed:  0.00023700000000026478\n",
            "Time elapsed:  0.0010380000000012046\n",
            "Time elapsed:  0.00024999999999941735\n",
            "Time elapsed:  0.00026000000000081513\n",
            "Time elapsed:  0.0004240000000006461\n",
            "Time elapsed:  0.00028100000000108594\n",
            "Time elapsed:  0.0003229999999998512\n",
            "Time elapsed:  0.00024900000000016576\n",
            "Time elapsed:  0.00024599999999885824\n",
            "Time elapsed:  0.00025399999999997647\n",
            "Time elapsed:  0.000280000000000058\n",
            "Time elapsed:  0.0002729999999999677\n",
            "Time elapsed:  0.00024300000000110344\n",
            "Time elapsed:  0.0002429999999993271\n",
            "Time elapsed:  0.0002099999999991553\n",
            "Time elapsed:  0.00026500000000062585\n",
            "Time elapsed:  0.00023599999999923682\n",
            "Time elapsed:  0.00023399999999895726\n",
            "Time elapsed:  0.00024999999999941735\n",
            "Time elapsed:  0.00023399999999895726\n",
            "Time elapsed:  0.00023200000000045407\n",
            "Time elapsed:  0.00023999999999979593\n",
            "Time elapsed:  0.00023400000000073362\n",
            "Time elapsed:  0.00023299999999970566\n",
            "Time elapsed:  0.0002569999999995076\n",
            "Time elapsed:  0.0002790000000008064\n",
            "Time elapsed:  0.00026900000000118496\n",
            "Time elapsed:  0.00022700000000064335\n",
            "Time elapsed:  0.00023800000000129273\n",
            "Time elapsed:  0.0002630000000003463\n",
            "Time elapsed:  0.00022300000000008424\n",
            "Time elapsed:  0.0003000000000010772\n",
            "Time elapsed:  0.0003100000000006986\n",
            "Time elapsed:  0.00026299999999856993\n",
            "Time elapsed:  0.00024900000000016576\n",
            "Time elapsed:  0.00023100000000120247\n",
            "Time elapsed:  0.00023200000000045407\n",
            "Time elapsed:  0.00023300000000148202\n",
            "Time elapsed:  0.00024499999999960664\n",
            "Time elapsed:  0.0002849999999998687\n",
            "Time elapsed:  0.000268000000000157\n",
            "Time elapsed:  0.0002309999999994261\n",
            "Time elapsed:  0.00024999999999941735\n",
            "Time elapsed:  0.00028200000000033754\n",
            "Time elapsed:  0.0002460000000006346\n",
            "Time elapsed:  0.0002689999999994086\n",
            "Time elapsed:  0.00023299999999970566\n",
            "Time elapsed:  0.0002569999999995076\n",
            "Time elapsed:  0.00024400000000035504\n",
            "Time elapsed:  0.0002689999999994086\n",
            "Time elapsed:  0.0002550000000010044\n",
            "Time elapsed:  0.0002670000000009054\n",
            "Time elapsed:  0.00023799999999951638\n",
            "Time elapsed:  0.0002930000000009869\n",
            "Time elapsed:  0.00026000000000081513\n",
            "Time elapsed:  0.0002510000000004453\n",
            "Time elapsed:  0.0002550000000010044\n",
            "Time elapsed:  0.00026599999999987745\n",
            "Time elapsed:  0.0002240000000011122\n",
            "Time elapsed:  0.00028200000000033754\n",
            "Time elapsed:  0.00023200000000045407\n",
            "Time elapsed:  0.00023299999999970566\n",
            "Time elapsed:  0.0002460000000006346\n",
            "Time elapsed:  0.00025499999999922807\n",
            "Time elapsed:  0.00023999999999979593\n",
            "Time elapsed:  0.00023400000000073362\n",
            "Time elapsed:  0.00024400000000035504\n",
            "Time elapsed:  0.00023900000000054433\n",
            "Time elapsed:  0.00024400000000035504\n",
            "Time elapsed:  0.00026100000000006673\n",
            "Time elapsed:  0.00023299999999970566\n",
            "Time elapsed:  0.00023299999999970566\n",
            "Time elapsed:  0.0002649999999988495\n",
            "Time elapsed:  0.0002469999999998862\n",
            "Time elapsed:  0.00023299999999970566\n",
            "Time elapsed:  0.00023999999999979593\n",
            "Time elapsed:  0.0002479999999991378\n",
            "Time elapsed:  0.0002529999999989485\n",
            "Time elapsed:  0.00025300000000072487\n",
            "Time elapsed:  0.00023200000000045407\n",
            "Time elapsed:  0.00023299999999970566\n",
            "Time elapsed:  0.00023600000000101318\n",
            "Time elapsed:  0.0002309999999994261\n",
            "Time elapsed:  0.00022200000000083264\n",
            "Time elapsed:  0.0002300000000001745\n",
            "Time elapsed:  0.0002790000000008064\n",
            "Time elapsed:  0.00023499999999998522\n",
            "Time elapsed:  0.00026500000000062585\n",
            "Time elapsed:  0.0003140000000012577\n",
            "Time elapsed:  0.00027199999999893976\n",
            "Time elapsed:  0.00025599999999847967\n",
            "Time elapsed:  0.00023700000000026478\n",
            "Time elapsed:  0.000226999999998867\n",
            "Time elapsed:  0.00023799999999951638\n",
            "Time elapsed:  0.00023999999999979593\n",
            "Time elapsed:  0.00021700000000102193\n",
            "Time elapsed:  0.00023499999999998522\n",
            "Time elapsed:  0.00021800000000027353\n",
            "Time elapsed:  0.0002089999999999037\n",
            "Time elapsed:  0.00023700000000026478\n",
            "Time elapsed:  0.00024499999999960664\n",
            "Time elapsed:  0.00031899999999929207\n",
            "Time elapsed:  0.00029299999999921056\n",
            "Time elapsed:  0.00025599999999847967\n",
            "Time elapsed:  0.0002410000000008239\n",
            "Time elapsed:  0.0002510000000004453\n",
            "Time elapsed:  0.0002420000000000755\n",
            "Time elapsed:  0.00023499999999998522\n",
            "Time elapsed:  0.00023599999999923682\n",
            "Time elapsed:  0.0002519999999996969\n",
            "Time elapsed:  0.00025499999999922807\n",
            "Time elapsed:  0.0002720000000007161\n",
            "Time elapsed:  0.00023699999999848842\n",
            "Time elapsed:  0.0002729999999999677\n",
            "Time elapsed:  0.00023399999999895726\n",
            "Time elapsed:  0.00024400000000035504\n",
            "Time elapsed:  0.00023799999999951638\n",
            "Time elapsed:  0.00023299999999970566\n",
            "Time elapsed:  0.00023999999999979593\n",
            "Time elapsed:  0.00023599999999923682\n",
            "Time elapsed:  0.00023999999999979593\n",
            "Time elapsed:  0.00025499999999922807\n",
            "Time elapsed:  0.00022799999999989495\n",
            "Time elapsed:  0.00022999999999839815\n",
            "Time elapsed:  0.0002420000000000755\n",
            "Time elapsed:  0.0002300000000001745\n",
            "Time elapsed:  0.00023599999999923682\n",
            "Time elapsed:  0.0002319999999986777\n",
            "Time elapsed:  0.00022899999999914655\n",
            "Time elapsed:  0.0002579999999987592\n",
            "Time elapsed:  0.0002410000000008239\n",
            "Time elapsed:  0.00023800000000129273\n",
            "Time elapsed:  0.0003650000000003928\n",
            "Time elapsed:  0.00026000000000081513\n",
            "Time elapsed:  0.00024900000000016576\n",
            "Time elapsed:  0.00024900000000016576\n",
            "Time elapsed:  0.0002420000000000755\n",
            "Time elapsed:  0.00023499999999998522\n",
            "Time elapsed:  0.00024300000000110344\n",
            "Time elapsed:  0.00023299999999970566\n",
            "Time elapsed:  0.000226999999998867\n",
            "Time elapsed:  0.0002309999999994261\n",
            "Time elapsed:  0.00023900000000054433\n",
            "Time elapsed:  0.00023999999999979593\n",
            "Time elapsed:  0.0002300000000001745\n",
            "Time elapsed:  0.00024999999999941735\n",
            "Time elapsed:  0.00024900000000016576\n",
            "Time elapsed:  0.00023999999999979593\n",
            "Time elapsed:  0.00023600000000101318\n",
            "Time elapsed:  0.0002510000000004453\n",
            "Time elapsed:  0.00023399999999895726\n",
            "Time elapsed:  0.0002529999999989485\n",
            "Time elapsed:  0.0002569999999995076\n",
            "Time elapsed:  0.00029299999999921056\n",
            "Time elapsed:  0.00025900000000156354\n",
            "Time elapsed:  0.00023899999999876798\n",
            "Time elapsed:  0.00026699999999912905\n",
            "Time elapsed:  0.00023899999999876798\n",
            "Time elapsed:  0.00023800000000129273\n",
            "Time elapsed:  0.0002519999999996969\n",
            "Time elapsed:  0.0002630000000003463\n",
            "Time elapsed:  0.00027099999999968816\n",
            "Time elapsed:  0.00025399999999997647\n",
            "Time elapsed:  0.00024599999999885824\n",
            "Time elapsed:  0.0002410000000008239\n",
            "Time elapsed:  0.00024499999999960664\n",
            "Time elapsed:  0.00023399999999895726\n",
            "Time elapsed:  0.00023999999999979593\n",
            "Time elapsed:  0.00023999999999979593\n",
            "Time elapsed:  0.0002410000000008239\n",
            "Time elapsed:  0.00023499999999998522\n",
            "Time elapsed:  0.0002460000000006346\n",
            "Time elapsed:  0.0002589999999997872\n",
            "Time elapsed:  0.0003100000000006986\n",
            "Time elapsed:  0.00022300000000008424\n",
            "Time elapsed:  0.00024800000000091416\n"
          ],
          "name": "stdout"
        }
      ]
    },
    {
      "cell_type": "code",
      "metadata": {
        "colab": {
          "base_uri": "https://localhost:8080/"
        },
        "id": "ZKfHJCRPb6h4",
        "outputId": "b610b2b2-05d9-4f2e-b5f3-f209066be43c"
      },
      "source": [
        "print(len(output_rates))\n",
        "print(len(refs))"
      ],
      "execution_count": null,
      "outputs": [
        {
          "output_type": "stream",
          "text": [
            "495\n",
            "495\n"
          ],
          "name": "stdout"
        }
      ]
    },
    {
      "cell_type": "code",
      "metadata": {
        "id": "y75IbZfAKVfN",
        "colab": {
          "base_uri": "https://localhost:8080/"
        },
        "outputId": "ff51767d-ef33-48d3-81fe-abafb6f18921"
      },
      "source": [
        "# absolute error\n",
        "errors = []\n",
        "for i in range(len(output_rates)):\n",
        "  errors.append(abs(output_rates[i]-reference[i]))\n",
        "print(np.mean(errors))"
      ],
      "execution_count": null,
      "outputs": [
        {
          "output_type": "stream",
          "text": [
            "21.22222222222222\n"
          ],
          "name": "stdout"
        }
      ]
    },
    {
      "cell_type": "code",
      "metadata": {
        "id": "C6kQGZXMBga0",
        "colab": {
          "base_uri": "https://localhost:8080/"
        },
        "outputId": "a7787efc-a970-4344-e363-a2c2e1fcd756"
      },
      "source": [
        "output_rates = np.asarray(output_rates)\n",
        "print(output_rates.shape)\n",
        "print(reference[:300].shape)"
      ],
      "execution_count": null,
      "outputs": [
        {
          "output_type": "stream",
          "text": [
            "(495,)\n",
            "(300,)\n"
          ],
          "name": "stdout"
        }
      ]
    },
    {
      "cell_type": "code",
      "metadata": {
        "id": "GH9Eod4HJ3T_"
      },
      "source": [
        "output_rates = output_rates.flatten()"
      ],
      "execution_count": null,
      "outputs": []
    },
    {
      "cell_type": "code",
      "metadata": {
        "id": "qYFcfMEeJ5xC"
      },
      "source": [
        "output_rates = np.reshape(output_rates, [len(output_rates)])"
      ],
      "execution_count": null,
      "outputs": []
    },
    {
      "cell_type": "code",
      "metadata": {
        "id": "sZFzkew6KKQ9",
        "colab": {
          "base_uri": "https://localhost:8080/",
          "height": 282
        },
        "outputId": "b99d465b-53f2-450f-e0ea-1d14e0d41655"
      },
      "source": [
        "plt.step(output_rates,'r')\n",
        "plt.step(reference,'b')"
      ],
      "execution_count": null,
      "outputs": [
        {
          "output_type": "execute_result",
          "data": {
            "text/plain": [
              "[<matplotlib.lines.Line2D at 0x7fd532048080>]"
            ]
          },
          "metadata": {
            "tags": []
          },
          "execution_count": 103
        },
        {
          "output_type": "display_data",
          "data": {
            "image/png": "[encoded data removed]",
            "text/plain": [
              "<Figure size 432x288 with 1 Axes>"
            ]
          },
          "metadata": {
            "tags": [],
            "needs_background": "light"
          }
        }
      ]
    },
    {
      "cell_type": "code",
      "metadata": {
        "colab": {
          "base_uri": "https://localhost:8080/",
          "height": 282
        },
        "id": "iqMiyf3zazkv",
        "outputId": "3771806e-74ee-4168-cf6c-162030e86c44"
      },
      "source": [
        "plt.step(output_rates[:100],'r')\n",
        "plt.step(reference[:100],'b')"
      ],
      "execution_count": null,
      "outputs": [
        {
          "output_type": "execute_result",
          "data": {
            "text/plain": [
              "[<matplotlib.lines.Line2D at 0x7fd532048400>]"
            ]
          },
          "metadata": {
            "tags": []
          },
          "execution_count": 104
        },
        {
          "output_type": "display_data",
          "data": {
            "image/png": "[encoded data removed]",
            "text/plain": [
              "<Figure size 432x288 with 1 Axes>"
            ]
          },
          "metadata": {
            "tags": [],
            "needs_background": "light"
          }
        }
      ]
    },
    {
      "cell_type": "code",
      "metadata": {
        "id": "ZdG3IiZDzdHp"
      },
      "source": [
        "len_of_sliding_window = 1000"
      ],
      "execution_count": null,
      "outputs": []
    },
    {
      "cell_type": "code",
      "metadata": {
        "id": "Wq7YlwJOjP0-"
      },
      "source": [
        "ra = range(0,3000,len_of_sliding_window)"
      ],
      "execution_count": null,
      "outputs": []
    },
    {
      "cell_type": "code",
      "metadata": {
        "colab": {
          "base_uri": "https://localhost:8080/"
        },
        "id": "d6DdeAHpjZB8",
        "outputId": "f7b9bb38-9ec6-4134-eddb-a0c2e5aab0e1"
      },
      "source": [
        "for i in ra:\n",
        "  print(i)"
      ],
      "execution_count": null,
      "outputs": [
        {
          "output_type": "stream",
          "text": [
            "0\n",
            "1000\n",
            "2000\n"
          ],
          "name": "stdout"
        }
      ]
    },
    {
      "cell_type": "markdown",
      "metadata": {
        "id": "ItCE_xX4lwv6"
      },
      "source": [
        "# On Selceted Region"
      ]
    },
    {
      "cell_type": "code",
      "metadata": {
        "id": "KTU6nVUkl0Kp"
      },
      "source": [
        "def mynorm(sig):\n",
        "  avg = np.mean(sig)\n",
        "  sig = sig - np.ones_like(sig)*avg\n",
        "  sig = sig / np.max(sig)\n",
        "  return sig"
      ],
      "execution_count": null,
      "outputs": []
    },
    {
      "cell_type": "code",
      "metadata": {
        "id": "AZyHoF4Wl0Kq"
      },
      "source": [
        "import time"
      ],
      "execution_count": null,
      "outputs": []
    },
    {
      "cell_type": "code",
      "metadata": {
        "colab": {
          "base_uri": "https://localhost:8080/"
        },
        "id": "ePFfT5G5l0Kr",
        "outputId": "58a31d3b-4133-4e69-f7f2-360c003c24d8"
      },
      "source": [
        "output_rates = []\n",
        "refs = []\n",
        "for i in range(20,len(signal[:100])):\n",
        "  sig = np.asarray(mynorm(signal[i]))\n",
        "  sig = np.reshape(sig, [1,wd])\n",
        "  t0= time.clock()\n",
        "  r =  calcRate(sig)\n",
        "  t1 = time.clock()\n",
        "  print(\"Time elapsed: \", t1 - t0) # CPU seconds elapsed (floating point)\n",
        "  output_rates.append(r)\n",
        "  refs.append(reference[i])\n",
        "\n",
        "  #refs.append(np.mean(reference_train[i:i+wd]))"
      ],
      "execution_count": null,
      "outputs": [
        {
          "output_type": "stream",
          "text": [
            "Time elapsed:  0.0008410000000012019\n",
            "Time elapsed:  0.0002290000000009229\n",
            "Time elapsed:  0.0002170000000027983\n",
            "Time elapsed:  0.00024700000000166256\n",
            "Time elapsed:  0.0002290000000009229\n",
            "Time elapsed:  0.0002729999999999677\n",
            "Time elapsed:  0.00024700000000166256\n",
            "Time elapsed:  0.00023600000000101318\n",
            "Time elapsed:  0.00022099999999980469\n",
            "Time elapsed:  0.00024700000000166256\n",
            "Time elapsed:  0.00025300000000072487\n",
            "Time elapsed:  0.0002540000000017528\n",
            "Time elapsed:  0.0002519999999996969\n",
            "Time elapsed:  0.00025299999999717215\n",
            "Time elapsed:  0.00023999999999801958\n",
            "Time elapsed:  0.0002519999999996969\n",
            "Time elapsed:  0.0002460000000006346\n",
            "Time elapsed:  0.00028700000000014825\n",
            "Time elapsed:  0.0002309999999994261\n",
            "Time elapsed:  0.0002480000000026905\n",
            "Time elapsed:  0.00023799999999951638\n",
            "Time elapsed:  0.00021999999999877673\n",
            "Time elapsed:  0.00021800000000027353\n",
            "Time elapsed:  0.0002809999999975332\n",
            "Time elapsed:  0.0002400000000015723\n",
            "Time elapsed:  0.00023499999999998522\n",
            "Time elapsed:  0.00023799999999951638\n",
            "Time elapsed:  0.00025099999999866895\n",
            "Time elapsed:  0.00024299999999755073\n",
            "Time elapsed:  0.00023700000000204113\n",
            "Time elapsed:  0.0002839999999970644\n",
            "Time elapsed:  0.00024099999999904753\n",
            "Time elapsed:  0.00025699999999773127\n",
            "Time elapsed:  0.0002329999999979293\n",
            "Time elapsed:  0.00023200000000045407\n",
            "Time elapsed:  0.00022099999999980469\n",
            "Time elapsed:  0.0002439999999985787\n",
            "Time elapsed:  0.00023200000000045407\n",
            "Time elapsed:  0.00023799999999951638\n",
            "Time elapsed:  0.00023499999999998522\n",
            "Time elapsed:  0.0002689999999994086\n",
            "Time elapsed:  0.00024300000000110344\n",
            "Time elapsed:  0.00023300000000148202\n",
            "Time elapsed:  0.0002270000000024197\n",
            "Time elapsed:  0.0002520000000032496\n",
            "Time elapsed:  0.00022199999999727993\n",
            "Time elapsed:  0.00022399999999933584\n",
            "Time elapsed:  0.00026399999999782153\n",
            "Time elapsed:  0.00026399999999782153\n",
            "Time elapsed:  0.0002689999999994086\n",
            "Time elapsed:  0.0002589999999997872\n",
            "Time elapsed:  0.0007550000000016155\n",
            "Time elapsed:  0.00022999999999839815\n",
            "Time elapsed:  0.0002290000000009229\n",
            "Time elapsed:  0.00024499999999960664\n",
            "Time elapsed:  0.00023600000000101318\n",
            "Time elapsed:  0.0002460000000006346\n",
            "Time elapsed:  0.00023999999999801958\n",
            "Time elapsed:  0.0002250000000003638\n",
            "Time elapsed:  0.0002439999999985787\n",
            "Time elapsed:  0.00023399999999895726\n",
            "Time elapsed:  0.00022999999999839815\n",
            "Time elapsed:  0.00023499999999998522\n",
            "Time elapsed:  0.00022399999999933584\n",
            "Time elapsed:  0.00022799999999989495\n",
            "Time elapsed:  0.00023399999999895726\n",
            "Time elapsed:  0.00023300000000148202\n",
            "Time elapsed:  0.00025499999999922807\n",
            "Time elapsed:  0.00023399999999895726\n",
            "Time elapsed:  0.00023499999999998522\n",
            "Time elapsed:  0.00023100000000297882\n",
            "Time elapsed:  0.00022099999999980469\n",
            "Time elapsed:  0.00023200000000045407\n",
            "Time elapsed:  0.0002290000000009229\n",
            "Time elapsed:  0.0002630000000003463\n",
            "Time elapsed:  0.00025099999999866895\n",
            "Time elapsed:  0.00032699999999863394\n",
            "Time elapsed:  0.0002439999999985787\n",
            "Time elapsed:  0.0002420000000000755\n",
            "Time elapsed:  0.00023300000000148202\n"
          ],
          "name": "stdout"
        }
      ]
    },
    {
      "cell_type": "code",
      "metadata": {
        "colab": {
          "base_uri": "https://localhost:8080/"
        },
        "id": "LeL1-gainWgZ",
        "outputId": "02e810ce-c50c-4f36-ffbc-75dacb10b035"
      },
      "source": [
        "print(len(output_rates))\n",
        "print(len(refs))"
      ],
      "execution_count": null,
      "outputs": [
        {
          "output_type": "stream",
          "text": [
            "80\n",
            "80\n"
          ],
          "name": "stdout"
        }
      ]
    },
    {
      "cell_type": "code",
      "metadata": {
        "colab": {
          "base_uri": "https://localhost:8080/"
        },
        "id": "PeOcj5Xil0Kt",
        "outputId": "874db305-f084-4627-b395-5c41f3921616"
      },
      "source": [
        "# absolute error\n",
        "errors = []\n",
        "for i in range(len(output_rates)):\n",
        "  errors.append(abs(output_rates[i]-refs[i]))\n",
        "  #print(i,abs(output_rates[i]-reference[i]))\n",
        "print(np.mean(errors))"
      ],
      "execution_count": null,
      "outputs": [
        {
          "output_type": "stream",
          "text": [
            "14.625\n"
          ],
          "name": "stdout"
        }
      ]
    },
    {
      "cell_type": "code",
      "metadata": {
        "colab": {
          "base_uri": "https://localhost:8080/"
        },
        "id": "fcaxpWB2l0Ku",
        "outputId": "b4d1ea2f-cc3e-4955-c6d7-a36b5f90cb72"
      },
      "source": [
        "output_rates = np.asarray(output_rates)\n",
        "print(output_rates.shape)\n",
        "print(len(refs))"
      ],
      "execution_count": null,
      "outputs": [
        {
          "output_type": "stream",
          "text": [
            "(80,)\n",
            "80\n"
          ],
          "name": "stdout"
        }
      ]
    },
    {
      "cell_type": "code",
      "metadata": {
        "id": "69ldjz8Sl0Ku"
      },
      "source": [
        "output_rates = output_rates.flatten()"
      ],
      "execution_count": null,
      "outputs": []
    },
    {
      "cell_type": "code",
      "metadata": {
        "id": "RBHy1SjUl0Ku"
      },
      "source": [
        "output_rates = np.reshape(output_rates, [len(output_rates)])"
      ],
      "execution_count": null,
      "outputs": []
    },
    {
      "cell_type": "code",
      "metadata": {
        "colab": {
          "base_uri": "https://localhost:8080/",
          "height": 282
        },
        "id": "U_RzMPzPl0Kv",
        "outputId": "e9016e84-3cf7-4e76-e0ac-848589261b06"
      },
      "source": [
        "plt.step(output_rates,'r')\n",
        "plt.step(refs,'b')"
      ],
      "execution_count": null,
      "outputs": [
        {
          "output_type": "execute_result",
          "data": {
            "text/plain": [
              "[<matplotlib.lines.Line2D at 0x7fd53274bda0>]"
            ]
          },
          "metadata": {
            "tags": []
          },
          "execution_count": 207
        },
        {
          "output_type": "display_data",
          "data": {
            "image/png": "[encoded data removed]",
            "text/plain": [
              "<Figure size 432x288 with 1 Axes>"
            ]
          },
          "metadata": {
            "tags": [],
            "needs_background": "light"
          }
        }
      ]
    },
    {
      "cell_type": "markdown",
      "metadata": {
        "id": "eRGRdcr0HUH0"
      },
      "source": [
        "#Numerical Evaluation"
      ]
    },
    {
      "cell_type": "code",
      "metadata": {
        "id": "RLfvXorj3wvb"
      },
      "source": [
        "import math"
      ],
      "execution_count": null,
      "outputs": []
    },
    {
      "cell_type": "code",
      "metadata": {
        "id": "KeqeRmN4C6KK"
      },
      "source": [
        "# Normalize signal\n",
        "def mynormalize(sig):\n",
        "  avg = np.mean(sig)\n",
        "  sig = sig - np.ones_like(sig)*avg\n",
        "  sig = sig / np.max(sig)\n",
        "  return sig\n",
        "\n",
        "def myNorm(sig,ref):\n",
        "    breathset2 = sig\n",
        "    breathset1 = ref\n",
        "    breathset1 = breathset1 - np.mean(breathset1)\n",
        "    breathset2 = breathset2 - np.mean(breathset2)\n",
        "    if (breathset1.size == 0):\n",
        "        return None, None\n",
        "    else:\n",
        "        if (math.isnan(np.max(breathset1))):\n",
        "            return None, None\n",
        "        else:\n",
        "            breathset1 = breathset1 / np.max(breathset1)\n",
        "            breathset2 = breathset2 / np.max(breathset2)\n",
        "            return breathset2, breathset1\n",
        "\n",
        "RMSEs = []\n",
        "MAEs = []\n",
        "Coeffs =[]\n",
        "for i in range(0,len(output_rates)-200,200):\n",
        "    #sig_normed, ref_normed = myNorm(output_rates[i:(i+200)],reference[i:(i+200)])\n",
        "    if (True):\n",
        "        RMSEs.append(RMSE(output_rates[i:(i+200)],reference[i:(i+200)]))\n",
        "        Coeffs.append(wBasedPearson(output_rates[i:(i+200)],reference[i:(i+200)]))\n",
        "        MAEs.append(MAE(output_rates[i:(i+200)],reference[i:(i+200)]))"
      ],
      "execution_count": null,
      "outputs": []
    },
    {
      "cell_type": "code",
      "metadata": {
        "id": "dZxQHqv-Hibe",
        "colab": {
          "base_uri": "https://localhost:8080/",
          "height": 69
        },
        "outputId": "36797067-a9db-4c66-f659-a1b60b3b742b"
      },
      "source": [
        "print(np.mean(RMSEs))\n",
        "print(np.mean(Coeffs))\n",
        "print(np.mean(MAEs))"
      ],
      "execution_count": null,
      "outputs": [
        {
          "output_type": "stream",
          "text": [
            "16.866912683537684\n",
            "0.16245805058148022\n",
            "11.9525\n"
          ],
          "name": "stdout"
        }
      ]
    },
    {
      "cell_type": "markdown",
      "metadata": {
        "id": "ot_dDLIZJMev"
      },
      "source": [
        "# Save evaluation"
      ]
    },
    {
      "cell_type": "code",
      "metadata": {
        "id": "1jnGeAau2bsy",
        "colab": {
          "base_uri": "https://localhost:8080/",
          "height": 121
        },
        "outputId": "df31480b-0889-4711-a155-8f155d6e2deb"
      },
      "source": [
        "saveToFile(\"output/\",\"CalcRate-on-Breathset-2020-04-28\",output_rates)\n",
        "saveToFile(\"output/\",\"CalcRate-on-Breathset-2020-04-28-ref\",reference)"
      ],
      "execution_count": null,
      "outputs": [
        {
          "output_type": "stream",
          "text": [
            "Save to this file:output/CalcRate-on-Breathset-2020-04-28\n",
            "...\n",
            "saved\n",
            "Save to this file:output/CalcRate-on-Breathset-2020-04-28-ref\n",
            "...\n",
            "saved\n"
          ],
          "name": "stdout"
        }
      ]
    },
    {
      "cell_type": "code",
      "metadata": {
        "id": "k8B5FcmCJi8O"
      },
      "source": [
        ""
      ],
      "execution_count": null,
      "outputs": []
    }
  ]
}
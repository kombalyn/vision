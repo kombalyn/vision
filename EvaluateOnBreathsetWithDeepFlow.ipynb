{
  "nbformat": 4,
  "nbformat_minor": 0,
  "metadata": {
    "colab": {
      "name": "EvaluateOnBreathsetWithDeepFlow.ipynb",
      "provenance": [],
      "collapsed_sections": [],
      "include_colab_link": true
    },
    "kernelspec": {
      "name": "python3",
      "display_name": "Python 3"
    },
    "accelerator": "GPU"
  },
  "cells": [
    {
      "cell_type": "markdown",
      "metadata": {
        "id": "view-in-github",
        "colab_type": "text"
      },
      "source": [
        "<a href=\"https://colab.research.google.com/github/kombalyn/vision/blob/master/EvaluateOnBreathsetWithDeepFlow.ipynb\" target=\"_parent\"><img src=\"https://colab.research.google.com/assets/colab-badge.svg\" alt=\"Open In Colab\"/></a>"
      ]
    },
    {
      "cell_type": "code",
      "metadata": {
        "id": "7KPcZ-THNrCj",
        "colab": {
          "base_uri": "https://localhost:8080/"
        },
        "outputId": "e95af0ac-890c-4db4-99b8-1d09bba0c29c"
      },
      "source": [
        "import os\n",
        "from google.colab import drive\n",
        "drive.mount('/content/drive')\n",
        "os.chdir(\"/content/drive/My Drive/\")"
      ],
      "execution_count": null,
      "outputs": [
        {
          "output_type": "stream",
          "text": [
            "Drive already mounted at /content/drive; to attempt to forcibly remount, call drive.mount(\"/content/drive\", force_remount=True).\n"
          ],
          "name": "stdout"
        }
      ]
    },
    {
      "cell_type": "code",
      "metadata": {
        "id": "RYTsC7l9dN8b"
      },
      "source": [
        "from importlib.machinery import SourceFileLoader\n",
        "methods = SourceFileLoader('methods', '/content/drive/My Drive/methods.py').load_module()"
      ],
      "execution_count": null,
      "outputs": []
    },
    {
      "cell_type": "code",
      "metadata": {
        "id": "SGkE7Xm_YcX0",
        "colab": {
          "base_uri": "https://localhost:8080/"
        },
        "outputId": "bea95102-9750-4378-afa8-5c7b8ca96650"
      },
      "source": [
        "%tensorflow_version 1.x\n",
        "import tensorflow as tf\n",
        "import numpy as np\n",
        "import matplotlib.pyplot as plt\n",
        "import random\n",
        "import cv2\n",
        "import pickle\n",
        "import h5py\n",
        "\n",
        "from methods import AverageSmooth\n",
        "from methods import RMSE\n",
        "from methods import CrossCorrelation\n",
        "from methods import calcFurierTransform\n",
        "from methods import MAE\n",
        "from methods import wBasedPearson"
      ],
      "execution_count": null,
      "outputs": [
        {
          "output_type": "stream",
          "text": [
            "TensorFlow 1.x selected.\n"
          ],
          "name": "stdout"
        }
      ]
    },
    {
      "cell_type": "markdown",
      "metadata": {
        "id": "QBTHPSuDJE5P"
      },
      "source": [
        "# Definitions"
      ]
    },
    {
      "cell_type": "code",
      "metadata": {
        "id": "JQ_nSB6tWOip"
      },
      "source": [
        "wd = 200\n",
        "FPS = 20"
      ],
      "execution_count": null,
      "outputs": []
    },
    {
      "cell_type": "code",
      "metadata": {
        "id": "H0h4pFIcksGg"
      },
      "source": [
        "'''\n",
        "Load in signal from file\n",
        "'''\n",
        "def readFromFile(path,filename,signal):\n",
        "  print(\"Save to this file:\"+path+filename)\n",
        "  print(\"...\")\n",
        "  print(\"saved\")\n",
        "  with open(path+filename,\"r\") as ins:\n",
        "    lines = ins.readlines()\n",
        "    for line in lines:\n",
        "      signal.append(float(line))\n",
        "  return np.asarray(signal)"
      ],
      "execution_count": null,
      "outputs": []
    },
    {
      "cell_type": "code",
      "metadata": {
        "id": "HurjiPYEyD16"
      },
      "source": [
        "'''\n",
        "save signal to file\n",
        "'''\n",
        "def saveToFile(path,filename,signal):\n",
        "  print(\"Save to this file:\"+path+filename)\n",
        "  print(\"...\")\n",
        "  print(\"saved\")\n",
        "  with open(path+filename,\"w\") as o:\n",
        "    for i in range(len(signal)):\n",
        "      o.write(str(signal[i]))\n",
        "      o.write(\"\\n\")"
      ],
      "execution_count": null,
      "outputs": []
    },
    {
      "cell_type": "code",
      "metadata": {
        "id": "vpfVr5HAS6dH"
      },
      "source": [
        "def loadSignalSet(path,set):\n",
        "  ujset = []\n",
        "  with open(path,'r') as ins:\n",
        "    lines = ins.readlines()\n",
        "    for line in lines:\n",
        "      values = line.split(',')\n",
        "      values = values[:-1] # At the end we have an extra ','\n",
        "      row = []\n",
        "      for val in values:\n",
        "        row.append(float(val))\n",
        "      ujset.append(row)\n",
        "  return np.asarray(ujset)"
      ],
      "execution_count": null,
      "outputs": []
    },
    {
      "cell_type": "code",
      "metadata": {
        "id": "KyObquYbVc5Q"
      },
      "source": [
        "def makeTresholdCurve(sig,division):\n",
        "    tresholds = []\n",
        "    for i in range(0,len(sig),division):\n",
        "        window = sig[i:(i+division)]\n",
        "        act_avg = np.average(window)\n",
        "        for j in range(division):\n",
        "            tresholds.append(act_avg)\n",
        "    return tresholds\n",
        "\n",
        "def tresholdByCurve(sig,tresholds,division,avg):\n",
        "    newsig = []\n",
        "    for i in range(0,len(sig),20):\n",
        "        window = sig[i:(i+20)]\n",
        "        trh = tresholds[i+10]\n",
        "        window[window<trh] = avg\n",
        "        newsig.append(np.asarray(window))\n",
        "    newsig = np.asarray(newsig)\n",
        "    newsig = newsig.flatten()\n",
        "    sig = newsig\n",
        "    return sig\n",
        "\n",
        "def calcTreshold2(window,avg):\n",
        "    upper = []\n",
        "    for i in range(1,len(window)):\n",
        "        if window[i-1]<=avg:\n",
        "            if avg<window[i]:\n",
        "                upper.append(i)\n",
        "    return upper\n",
        "\n",
        "def calcRate(sig):\n",
        "    tresholds = makeTresholdCurve(sig,20)\n",
        "    \n",
        "    # Calculate avg:\n",
        "    avg = np.average(sig)\n",
        "    \n",
        "    # treshold by the treshold curve:\n",
        "    sig = tresholdByCurve(sig,tresholds,20,avg)\n",
        "    \n",
        "    # Binarization\n",
        "    sig[avg<sig] = 1  \n",
        "    sig[sig<avg] = avg\n",
        "    \n",
        "    # relative treshold set by avg:\n",
        "    upper = calcTreshold2(sig,avg)\n",
        "\n",
        "    return (len(upper)/(wd/FPS))*60"
      ],
      "execution_count": null,
      "outputs": []
    },
    {
      "cell_type": "markdown",
      "metadata": {
        "id": "F5jQCXwej7nc"
      },
      "source": [
        "# Load Data"
      ]
    },
    {
      "cell_type": "code",
      "metadata": {
        "id": "EtSC_mIKGy_L"
      },
      "source": [
        "# '''\n",
        "# Load the calculated signal\n",
        "# '''\n",
        "# signal=[]\n",
        "# signal = loadSignalSet(\"output/MixedDataset3\",signal)\n",
        "# print(signal.shape)"
      ],
      "execution_count": null,
      "outputs": []
    },
    {
      "cell_type": "code",
      "metadata": {
        "id": "zR7sONjvHgBa"
      },
      "source": [
        "# '''\n",
        "# Load the calculated signal\n",
        "# '''\n",
        "# reference = []\n",
        "# reference = readFromFile(\"output/\",\"MixedDataset_ref3\",reference)\n",
        "# print(reference.shape)"
      ],
      "execution_count": null,
      "outputs": []
    },
    {
      "cell_type": "code",
      "metadata": {
        "id": "lpufpISpGfti"
      },
      "source": [
        "'''\n",
        "Load the calculated signal\n",
        "'''\n",
        "optflowsig = []\n",
        "with  open(\"test-breathsetWithUNET.dat\",\"r\") as ins:\n",
        "  lines = ins.readlines()\n",
        "  for line in lines:\n",
        "    optflowsig.append(float(line))\n",
        "#optflowsig = np.asarray(optflowsig)\n",
        "optflowsig = np.asarray(optflowsig)"
      ],
      "execution_count": null,
      "outputs": []
    },
    {
      "cell_type": "code",
      "metadata": {
        "id": "4jGoomj7G5rB"
      },
      "source": [
        "'''\n",
        "Load the calculated signal\n",
        "'''\n",
        "refflow = []\n",
        "with  open(\"test-breathsetWithUNET_ref.dat\",\"r\") as ins:\n",
        "  lines = ins.readlines()\n",
        "  for line in lines:\n",
        "    refflow.append(float(line[1:3]))\n",
        "refflow = np.asarray(refflow)"
      ],
      "execution_count": null,
      "outputs": []
    },
    {
      "cell_type": "code",
      "metadata": {
        "colab": {
          "base_uri": "https://localhost:8080/",
          "height": 300
        },
        "id": "l1RbNscrB3Bh",
        "outputId": "f7d470f5-188b-4345-a261-a2a3cc79fffe"
      },
      "source": [
        "print(len(refflow))\n",
        "plt.plot(refflow)"
      ],
      "execution_count": null,
      "outputs": [
        {
          "output_type": "stream",
          "text": [
            "90943\n"
          ],
          "name": "stdout"
        },
        {
          "output_type": "execute_result",
          "data": {
            "text/plain": [
              "[<matplotlib.lines.Line2D at 0x7f24926694e0>]"
            ]
          },
          "metadata": {
            "tags": []
          },
          "execution_count": 23
        },
        {
          "output_type": "display_data",
          "data": {
            "image/png": "[encoded data removed]",
            "text/plain": [
              "<Figure size 432x288 with 1 Axes>"
            ]
          },
          "metadata": {
            "tags": [],
            "needs_background": "light"
          }
        }
      ]
    },
    {
      "cell_type": "code",
      "metadata": {
        "colab": {
          "base_uri": "https://localhost:8080/",
          "height": 293
        },
        "id": "_kYsMSGPlMOo",
        "outputId": "478bcba9-fa09-483b-d3a0-1e6afbd5b7a7"
      },
      "source": [
        "plt.plot(optflowsig[41000:41400])"
      ],
      "execution_count": null,
      "outputs": [
        {
          "output_type": "execute_result",
          "data": {
            "text/plain": [
              "[<matplotlib.lines.Line2D at 0x7f0ca3530208>]"
            ]
          },
          "metadata": {
            "tags": []
          },
          "execution_count": 17
        },
        {
          "output_type": "display_data",
          "data": {
            "image/png": "[encoded data removed]",
            "text/plain": [
              "<Figure size 432x288 with 1 Axes>"
            ]
          },
          "metadata": {
            "tags": [],
            "needs_background": "light"
          }
        }
      ]
    },
    {
      "cell_type": "code",
      "metadata": {
        "colab": {
          "base_uri": "https://localhost:8080/",
          "height": 293
        },
        "id": "DlIxAlSfezxK",
        "outputId": "3fb77193-da61-4b59-f549-969e2f92d362"
      },
      "source": [
        "plt.plot(optflowsig[41000:41400])"
      ],
      "execution_count": null,
      "outputs": [
        {
          "output_type": "execute_result",
          "data": {
            "text/plain": [
              "[<matplotlib.lines.Line2D at 0x7f0ca3e0a898>]"
            ]
          },
          "metadata": {
            "tags": []
          },
          "execution_count": 18
        },
        {
          "output_type": "display_data",
          "data": {
            "image/png": "[encoded data removed]",
            "text/plain": [
              "<Figure size 432x288 with 1 Axes>"
            ]
          },
          "metadata": {
            "tags": [],
            "needs_background": "light"
          }
        }
      ]
    },
    {
      "cell_type": "code",
      "metadata": {
        "id": "k05gCxYSfM-x"
      },
      "source": [
        "#sig = optflowsig[20000:20400]\r\n",
        "sig = optflowsig[41000:41400]"
      ],
      "execution_count": null,
      "outputs": []
    },
    {
      "cell_type": "code",
      "metadata": {
        "id": "hRbl8UxBp165"
      },
      "source": [
        "maxes=findLocalMaximas(sig,8)"
      ],
      "execution_count": null,
      "outputs": []
    },
    {
      "cell_type": "code",
      "metadata": {
        "colab": {
          "base_uri": "https://localhost:8080/"
        },
        "id": "ogImKVz2qC89",
        "outputId": "13605857-f1dd-4f8d-ff08-526148387fed"
      },
      "source": [
        "print(maxes)"
      ],
      "execution_count": null,
      "outputs": [
        {
          "output_type": "stream",
          "text": [
            "[  8  27  42  64  84  99 112 123 137 151 163 172 186 202 222 240 256 269\n",
            " 282 295 314 325 338 350 365 382 395]\n"
          ],
          "name": "stdout"
        }
      ]
    },
    {
      "cell_type": "code",
      "metadata": {
        "colab": {
          "base_uri": "https://localhost:8080/"
        },
        "id": "YFS9tu8OZ_ex",
        "outputId": "137cb09a-5c1c-4664-e132-a4f685d35aae"
      },
      "source": [
        "envelop = getEnvelope(sig,maxes)\r\n",
        "print(len(envelop))"
      ],
      "execution_count": null,
      "outputs": [
        {
          "output_type": "stream",
          "text": [
            "[  0.   8.  27.  42.  64.  84.  99. 112. 123. 137. 151. 163. 172. 186.\n",
            " 202. 222. 240. 256. 269. 282. 295. 314. 325. 338. 350. 365. 382. 395.]\n",
            "400\n"
          ],
          "name": "stdout"
        }
      ]
    },
    {
      "cell_type": "code",
      "metadata": {
        "id": "LTUE_iYKnGPA"
      },
      "source": [
        "def findLocalMaximas(sig,horizontal_treshold):\r\n",
        "  places = []\r\n",
        "  places.append(0)\r\n",
        "  for i in range(1,len(sig)-1):\r\n",
        "    if(sig[i-1]<sig[i] and sig[i+1]<sig[i]):\r\n",
        "      if (horizontal_treshold<abs(i-places[-1])):\r\n",
        "        places.append(i)\r\n",
        "      else:\r\n",
        "        if (sig[places[-1]]<sig[i]):\r\n",
        "          places[-1]=i\r\n",
        "  #places = places[1:]\r\n",
        "  return np.asarray(places)"
      ],
      "execution_count": null,
      "outputs": []
    },
    {
      "cell_type": "code",
      "metadata": {
        "colab": {
          "base_uri": "https://localhost:8080/",
          "height": 348
        },
        "id": "4tKuvvdMfqsR",
        "outputId": "8a2fb456-50f2-4547-b1dc-63fcfbb47205"
      },
      "source": [
        "plt.stem(maxes,sig[maxes])\r\n",
        "plt.plot(sig)\r\n",
        "plt.plot(envelop,'r')"
      ],
      "execution_count": null,
      "outputs": [
        {
          "output_type": "stream",
          "text": [
            "/usr/local/lib/python3.6/dist-packages/ipykernel_launcher.py:1: UserWarning: In Matplotlib 3.3 individual lines on a stem plot will be added as a LineCollection instead of individual lines. This significantly improves the performance of a stem plot. To remove this warning and switch to the new behaviour, set the \"use_line_collection\" keyword argument to True.\n",
            "  \"\"\"Entry point for launching an IPython kernel.\n"
          ],
          "name": "stderr"
        },
        {
          "output_type": "execute_result",
          "data": {
            "text/plain": [
              "[<matplotlib.lines.Line2D at 0x7f0c9d883320>]"
            ]
          },
          "metadata": {
            "tags": []
          },
          "execution_count": 67
        },
        {
          "output_type": "display_data",
          "data": {
            "image/png": "[encoded data removed]",
            "text/plain": [
              "<Figure size 432x288 with 1 Axes>"
            ]
          },
          "metadata": {
            "tags": [],
            "needs_background": "light"
          }
        }
      ]
    },
    {
      "cell_type": "code",
      "metadata": {
        "id": "TLZbKCEw0Uw6"
      },
      "source": [
        "def getEnvelope(sig,locMaximas):\r\n",
        "  envelop = []\r\n",
        "  locMaximas = np.concatenate((np.zeros(1),locMaximas))\r\n",
        "  print(locMaximas)\r\n",
        "  for i in range(1,len(locMaximas)):\r\n",
        "    x_dif = abs(locMaximas[i]-locMaximas[i-1])\r\n",
        "    y_dif = sig[int(locMaximas[i])]-sig[int(locMaximas[i-1])]\r\n",
        "    m = y_dif/x_dif\r\n",
        "    act_y = sig[int(locMaximas[i-1])]\r\n",
        "    for j in range(int(locMaximas[i-1]),int(locMaximas[i])):\r\n",
        "      act_y = sig[int(locMaximas[i-1])] + m*(j-int(locMaximas[i-1]))#ig[int(locMaximas[i-1])]#m*j\r\n",
        "      envelop.append(act_y)\r\n",
        "  x_dif = abs(len(sig)-locMaximas[-1])\r\n",
        "  y_dif = abs(sig[int(len(sig)-1)]-sig[int(locMaximas[-1])])\r\n",
        "  m = y_dif/x_dif\r\n",
        "  act_y = sig[int(locMaximas[-1])]\r\n",
        "  for j in range(int(locMaximas[-1]),len(sig)):\r\n",
        "    act_y = 0#m*j\r\n",
        "    envelop.append(act_y)\r\n",
        "  return envelop"
      ],
      "execution_count": null,
      "outputs": []
    },
    {
      "cell_type": "markdown",
      "metadata": {
        "id": "C0W24tlxYLxP"
      },
      "source": [
        "# Band Pass Filtering"
      ]
    },
    {
      "cell_type": "code",
      "metadata": {
        "id": "5QWI9z2BYaKe"
      },
      "source": [
        "# Sample rate and desired cutoff frequencies (in Hz).\n",
        "fs = 30.0\n",
        "lowcut = 1/6\n",
        "highcut = 2"
      ],
      "execution_count": null,
      "outputs": []
    },
    {
      "cell_type": "code",
      "metadata": {
        "id": "FA6H0uFuYexr"
      },
      "source": [
        "from scipy.signal import butter, lfilter\n",
        "\n",
        "def butter_bandpass(lowcut, highcut, fs, order=5):\n",
        "    nyq = 0.5 * fs\n",
        "    low = lowcut / nyq\n",
        "    high = highcut / nyq\n",
        "    b, a = butter(order, [low, high], btype='band')\n",
        "    return b, a\n",
        "\n",
        "def butter_bandpass_filter(data, lowcut, highcut, fs, order=5):\n",
        "    b, a = butter_bandpass(lowcut, highcut, fs, order=order)\n",
        "    y = lfilter(b, a, data)\n",
        "    return y"
      ],
      "execution_count": null,
      "outputs": []
    },
    {
      "cell_type": "code",
      "metadata": {
        "id": "k4aLACwNY1PV"
      },
      "source": [
        "optflowsig = butter_bandpass_filter(optflowsig, lowcut, highcut, fs, order=6)"
      ],
      "execution_count": null,
      "outputs": []
    },
    {
      "cell_type": "markdown",
      "metadata": {
        "id": "bQM3zzRZYl9l"
      },
      "source": [
        "# Reshape signals to [wd,wd]"
      ]
    },
    {
      "cell_type": "code",
      "metadata": {
        "id": "mwYE3eaQYtvb",
        "colab": {
          "base_uri": "https://localhost:8080/",
          "height": 34
        },
        "outputId": "ca9b3ace-c260-4332-8c54-f7d575efde76"
      },
      "source": [
        "signal = []\n",
        "for i in range(0,len(optflowsig),200):\n",
        "  seq = optflowsig[i:(i+200)]\n",
        "  if (len(seq)==200):\n",
        "    signal.append(seq)\n",
        "signal = np.asarray(signal)\n",
        "print(signal.shape)"
      ],
      "execution_count": null,
      "outputs": [
        {
          "output_type": "stream",
          "text": [
            "(454, 200)\n"
          ],
          "name": "stdout"
        }
      ]
    },
    {
      "cell_type": "code",
      "metadata": {
        "id": "4y4YllkhYxXc",
        "colab": {
          "base_uri": "https://localhost:8080/",
          "height": 34
        },
        "outputId": "4f3621a5-9a01-41fb-9e94-eb31298df0e8"
      },
      "source": [
        "reference = []\n",
        "for i in range(0,len(refflow),200):\n",
        "  seq = refflow[i:(i+200)]\n",
        "  if (len(seq)==200):\n",
        "    reference.append(seq[100])\n",
        "reference = np.asarray(reference)\n",
        "print(reference.shape)"
      ],
      "execution_count": null,
      "outputs": [
        {
          "output_type": "stream",
          "text": [
            "(454,)\n"
          ],
          "name": "stdout"
        }
      ]
    },
    {
      "cell_type": "markdown",
      "metadata": {
        "id": "3bhgwYgX-Sr9"
      },
      "source": [
        "# Demo"
      ]
    },
    {
      "cell_type": "code",
      "metadata": {
        "id": "YxlRndABytT9"
      },
      "source": [
        "def mynorm(sig):\n",
        "  avg = np.mean(sig)\n",
        "  sig = sig - np.ones_like(sig)*avg\n",
        "  sig = sig / np.max(sig)\n",
        "  return sig"
      ],
      "execution_count": null,
      "outputs": []
    },
    {
      "cell_type": "code",
      "metadata": {
        "id": "yiw7Ykn4rZBF"
      },
      "source": [
        "import time"
      ],
      "execution_count": null,
      "outputs": []
    },
    {
      "cell_type": "code",
      "metadata": {
        "id": "JfLJnuomJ864",
        "colab": {
          "base_uri": "https://localhost:8080/",
          "height": 1000
        },
        "outputId": "3d5314e2-a92b-41c4-e587-0de06f364e1b"
      },
      "source": [
        "output_rates = []\n",
        "#refs = []\n",
        "for i in range(0,len(signal)):\n",
        "  sig = np.asarray(mynorm(signal[i]))\n",
        "  sig = np.reshape(sig, [1,wd])\n",
        "  t0= time.clock()\n",
        "  r =  calcRate(sig)\n",
        "  t1 = time.clock()\n",
        "  print(\"Time elapsed: \", t1 - t0) # CPU seconds elapsed (floating point)\n",
        "  output_rates.append(r)\n",
        "\n",
        "  #refs.append(np.mean(reference_train[i:i+wd]))"
      ],
      "execution_count": null,
      "outputs": [
        {
          "output_type": "stream",
          "text": [
            "Time elapsed:  0.00026499999999973767\n",
            "Time elapsed:  0.00017900000000015126\n",
            "Time elapsed:  0.00017900000000015126\n",
            "Time elapsed:  0.00019199999999974793\n",
            "Time elapsed:  0.00018699999999993722\n",
            "Time elapsed:  0.00016499999999997073\n",
            "Time elapsed:  0.0002089999999999037\n",
            "Time elapsed:  0.00020800000000020802\n",
            "Time elapsed:  0.0001719999999996169\n",
            "Time elapsed:  0.00018399999999996197\n",
            "Time elapsed:  0.00023700000000026478\n",
            "Time elapsed:  0.00017099999999992122\n",
            "Time elapsed:  0.00021599999999999397\n",
            "Time elapsed:  0.0003069999999998352\n",
            "Time elapsed:  0.00020799999999976393\n",
            "Time elapsed:  0.00020199999999981344\n",
            "Time elapsed:  0.00030300000000016425\n",
            "Time elapsed:  0.000264000000000042\n",
            "Time elapsed:  0.00025999999999992696\n",
            "Time elapsed:  0.00023899999999965615\n",
            "Time elapsed:  0.00011399999999994748\n",
            "Time elapsed:  0.00021100000000018326\n",
            "Time elapsed:  0.000256000000000256\n",
            "Time elapsed:  0.00019900000000028228\n",
            "Time elapsed:  0.00026999999999999247\n",
            "Time elapsed:  0.00020700000000006824\n",
            "Time elapsed:  0.00021100000000018326\n",
            "Time elapsed:  0.00026499999999973767\n",
            "Time elapsed:  0.00024999999999986144\n",
            "Time elapsed:  0.0003660000000000885\n",
            "Time elapsed:  0.00021799999999982944\n",
            "Time elapsed:  0.00019799999999969842\n",
            "Time elapsed:  0.0001980000000001425\n",
            "Time elapsed:  0.00021200000000032304\n",
            "Time elapsed:  0.00020699999999962415\n",
            "Time elapsed:  0.00020099999999967366\n",
            "Time elapsed:  0.00019999999999997797\n",
            "Time elapsed:  0.0001020000000000465\n",
            "Time elapsed:  0.000204000000000093\n",
            "Time elapsed:  0.00020600000000037255\n",
            "Time elapsed:  0.0002089999999999037\n",
            "Time elapsed:  0.00020100000000011775\n",
            "Time elapsed:  0.00019999999999997797\n",
            "Time elapsed:  0.000172000000000061\n",
            "Time elapsed:  0.00020700000000006824\n",
            "Time elapsed:  0.00020100000000011775\n",
            "Time elapsed:  0.00016199999999999548\n",
            "Time elapsed:  0.00020299999999995322\n",
            "Time elapsed:  0.00020200000000025753\n",
            "Time elapsed:  0.00011099999999997223\n",
            "Time elapsed:  0.00020800000000020802\n",
            "Time elapsed:  0.00019400000000002748\n",
            "Time elapsed:  0.00027199999999982793\n",
            "Time elapsed:  0.00022900000000003473\n",
            "Time elapsed:  0.00022800000000033904\n",
            "Time elapsed:  0.00023799999999996047\n",
            "Time elapsed:  0.00019799999999969842\n",
            "Time elapsed:  0.00015499999999990521\n",
            "Time elapsed:  0.00015300000000006975\n",
            "Time elapsed:  0.0002149999999998542\n",
            "Time elapsed:  0.00021000000000004349\n",
            "Time elapsed:  0.0001669999999998062\n",
            "Time elapsed:  0.00010299999999974219\n",
            "Time elapsed:  0.00017900000000015126\n",
            "Time elapsed:  0.0001980000000001425\n",
            "Time elapsed:  0.0001980000000001425\n",
            "Time elapsed:  0.00020100000000011775\n",
            "Time elapsed:  0.00021200000000032304\n",
            "Time elapsed:  0.00010300000000018628\n",
            "Time elapsed:  0.00020700000000006824\n",
            "Time elapsed:  0.0001020000000000465\n",
            "Time elapsed:  0.00022199999999994446\n",
            "Time elapsed:  0.000204000000000093\n",
            "Time elapsed:  0.00017600000000017602\n",
            "Time elapsed:  0.00011699999999992272\n",
            "Time elapsed:  0.0002089999999999037\n",
            "Time elapsed:  0.00018900000000021677\n",
            "Time elapsed:  0.00010299999999974219\n",
            "Time elapsed:  0.00020499999999978868\n",
            "Time elapsed:  0.0001930000000003318\n",
            "Time elapsed:  0.00021300000000001873\n",
            "Time elapsed:  0.00010900000000013677\n",
            "Time elapsed:  0.00018500000000010175\n",
            "Time elapsed:  0.00020599999999992846\n",
            "Time elapsed:  0.00020699999999962415\n",
            "Time elapsed:  0.00021199999999987895\n",
            "Time elapsed:  0.00015499999999990521\n",
            "Time elapsed:  0.00015399999999976544\n",
            "Time elapsed:  0.00015499999999990521\n",
            "Time elapsed:  0.00018300000000026628\n",
            "Time elapsed:  0.0001020000000000465\n",
            "Time elapsed:  0.00021300000000001873\n",
            "Time elapsed:  0.00019900000000028228\n",
            "Time elapsed:  0.00020500000000023277\n",
            "Time elapsed:  0.00015699999999974068\n",
            "Time elapsed:  0.000156000000000045\n",
            "Time elapsed:  0.000188000000000077\n",
            "Time elapsed:  0.0002140000000001585\n",
            "Time elapsed:  0.000204000000000093\n",
            "Time elapsed:  0.00012200000000017752\n",
            "Time elapsed:  0.0002420000000000755\n",
            "Time elapsed:  0.0003009999999998847\n",
            "Time elapsed:  0.00023799999999996047\n",
            "Time elapsed:  0.00019599999999986295\n",
            "Time elapsed:  0.00022400000000022402\n",
            "Time elapsed:  0.00021699999999968966\n",
            "Time elapsed:  0.000220000000000109\n",
            "Time elapsed:  0.000128000000000128\n",
            "Time elapsed:  0.00034000000000000696\n",
            "Time elapsed:  0.00022099999999980469\n",
            "Time elapsed:  0.00019100000000005224\n",
            "Time elapsed:  0.00023300000000014975\n",
            "Time elapsed:  0.0001229999999998732\n",
            "Time elapsed:  0.000248000000000026\n",
            "Time elapsed:  0.00024500000000005073\n",
            "Time elapsed:  0.00023999999999979593\n",
            "Time elapsed:  0.000220000000000109\n",
            "Time elapsed:  0.00020299999999995322\n",
            "Time elapsed:  0.00021100000000018326\n",
            "Time elapsed:  0.0002140000000001585\n",
            "Time elapsed:  0.00010500000000002174\n",
            "Time elapsed:  0.00021399999999971442\n",
            "Time elapsed:  0.00019400000000002748\n",
            "Time elapsed:  0.00022799999999989495\n",
            "Time elapsed:  0.00022799999999989495\n",
            "Time elapsed:  0.00022200000000038855\n",
            "Time elapsed:  0.00021899999999996922\n",
            "Time elapsed:  0.00020799999999976393\n",
            "Time elapsed:  0.00020700000000006824\n",
            "Time elapsed:  0.00021899999999996922\n",
            "Time elapsed:  0.00018199999999968242\n",
            "Time elapsed:  0.000252000000000141\n",
            "Time elapsed:  0.00019599999999986295\n",
            "Time elapsed:  0.0001769999999998717\n",
            "Time elapsed:  0.00024500000000005073\n",
            "Time elapsed:  0.0002420000000000755\n",
            "Time elapsed:  0.00022300000000008424\n",
            "Time elapsed:  0.00025000000000030553\n",
            "Time elapsed:  0.0001829999999998222\n",
            "Time elapsed:  0.00015700000000018477\n",
            "Time elapsed:  0.00015900000000002024\n",
            "Time elapsed:  0.00028199999999989345\n",
            "Time elapsed:  0.00021599999999999397\n",
            "Time elapsed:  0.0002420000000000755\n",
            "Time elapsed:  0.00018999999999991246\n",
            "Time elapsed:  0.00016900000000008575\n",
            "Time elapsed:  0.00028699999999970416\n",
            "Time elapsed:  0.00021700000000013375\n",
            "Time elapsed:  0.00021300000000001873\n",
            "Time elapsed:  0.0002149999999998542\n",
            "Time elapsed:  0.0002089999999999037\n",
            "Time elapsed:  0.00018899999999977268\n",
            "Time elapsed:  0.00021099999999973917\n",
            "Time elapsed:  0.00015799999999988046\n",
            "Time elapsed:  0.00015799999999988046\n",
            "Time elapsed:  0.00018099999999998673\n",
            "Time elapsed:  0.00019999999999997797\n",
            "Time elapsed:  9.799999999993148e-05\n",
            "Time elapsed:  0.00021000000000004349\n",
            "Time elapsed:  0.00010599999999971743\n",
            "Time elapsed:  0.00019999999999997797\n",
            "Time elapsed:  0.00019500000000016726\n",
            "Time elapsed:  0.00011999999999989797\n",
            "Time elapsed:  0.0002140000000001585\n",
            "Time elapsed:  0.00018699999999993722\n",
            "Time elapsed:  0.0002309999999998702\n",
            "Time elapsed:  0.0001020000000000465\n",
            "Time elapsed:  0.0002249999999999197\n",
            "Time elapsed:  0.00019600000000030704\n",
            "Time elapsed:  0.00020199999999981344\n",
            "Time elapsed:  0.00020799999999976393\n",
            "Time elapsed:  0.00017800000000001148\n",
            "Time elapsed:  0.00020299999999995322\n",
            "Time elapsed:  0.00020299999999995322\n",
            "Time elapsed:  0.00015300000000006975\n",
            "Time elapsed:  0.000172000000000061\n",
            "Time elapsed:  0.00015400000000020952\n",
            "Time elapsed:  0.00020199999999981344\n",
            "Time elapsed:  0.00015799999999988046\n",
            "Time elapsed:  0.00017299999999975668\n",
            "Time elapsed:  0.00021000000000004349\n",
            "Time elapsed:  0.00010400000000032605\n",
            "Time elapsed:  0.00021100000000018326\n",
            "Time elapsed:  0.00019400000000002748\n",
            "Time elapsed:  0.00020699999999962415\n",
            "Time elapsed:  0.00020100000000011775\n",
            "Time elapsed:  0.00022900000000003473\n",
            "Time elapsed:  0.0002260000000000595\n",
            "Time elapsed:  0.00022300000000008424\n",
            "Time elapsed:  0.0002250000000003638\n",
            "Time elapsed:  0.000220000000000109\n",
            "Time elapsed:  0.000204000000000093\n",
            "Time elapsed:  0.000220000000000109\n",
            "Time elapsed:  0.00017300000000020077\n",
            "Time elapsed:  0.00020500000000023277\n",
            "Time elapsed:  0.00021300000000001873\n",
            "Time elapsed:  0.00019500000000016726\n",
            "Time elapsed:  0.0001020000000000465\n",
            "Time elapsed:  0.00022800000000033904\n",
            "Time elapsed:  0.00019999999999997797\n",
            "Time elapsed:  0.00020599999999992846\n",
            "Time elapsed:  0.00020199999999981344\n",
            "Time elapsed:  0.00020299999999995322\n",
            "Time elapsed:  0.00010500000000002174\n",
            "Time elapsed:  0.00019999999999997797\n",
            "Time elapsed:  0.0001020000000000465\n",
            "Time elapsed:  0.00021300000000001873\n",
            "Time elapsed:  0.00016799999999994597\n",
            "Time elapsed:  0.00020299999999995322\n",
            "Time elapsed:  0.00010300000000018628\n",
            "Time elapsed:  0.00021199999999987895\n",
            "Time elapsed:  0.00020299999999995322\n",
            "Time elapsed:  0.00018099999999998673\n",
            "Time elapsed:  0.00020100000000011775\n",
            "Time elapsed:  0.00020499999999978868\n",
            "Time elapsed:  0.00020799999999976393\n",
            "Time elapsed:  0.00020599999999992846\n",
            "Time elapsed:  0.00020200000000025753\n",
            "Time elapsed:  0.00010399999999988196\n",
            "Time elapsed:  0.00021600000000043806\n",
            "Time elapsed:  0.000204000000000093\n",
            "Time elapsed:  0.00020299999999995322\n",
            "Time elapsed:  0.00029800000000035354\n",
            "Time elapsed:  0.00023799999999996047\n",
            "Time elapsed:  0.00020299999999995322\n",
            "Time elapsed:  0.000204000000000093\n",
            "Time elapsed:  0.000204000000000093\n",
            "Time elapsed:  0.00010900000000013677\n",
            "Time elapsed:  0.00019199999999974793\n",
            "Time elapsed:  0.00010099999999990672\n",
            "Time elapsed:  0.00020800000000020802\n",
            "Time elapsed:  0.00019499999999972317\n",
            "Time elapsed:  0.0002039999999996489\n",
            "Time elapsed:  0.00019900000000028228\n",
            "Time elapsed:  0.000188000000000077\n",
            "Time elapsed:  0.0002259999999996154\n",
            "Time elapsed:  0.00022100000000024878\n",
            "Time elapsed:  0.00022800000000033904\n",
            "Time elapsed:  0.0003009999999998847\n",
            "Time elapsed:  0.00017500000000003624\n",
            "Time elapsed:  0.000248000000000026\n",
            "Time elapsed:  0.0001930000000003318\n",
            "Time elapsed:  0.00010399999999988196\n",
            "Time elapsed:  0.0001980000000001425\n",
            "Time elapsed:  0.00012500000000015277\n",
            "Time elapsed:  0.00020700000000006824\n",
            "Time elapsed:  0.00020600000000037255\n",
            "Time elapsed:  0.00020299999999995322\n",
            "Time elapsed:  0.0002149999999998542\n",
            "Time elapsed:  0.00020500000000023277\n",
            "Time elapsed:  0.0001020000000000465\n",
            "Time elapsed:  0.0002089999999999037\n",
            "Time elapsed:  0.0001020000000000465\n",
            "Time elapsed:  0.00020800000000020802\n",
            "Time elapsed:  0.00018599999999979744\n",
            "Time elapsed:  0.0002030000000003973\n",
            "Time elapsed:  0.00020100000000011775\n",
            "Time elapsed:  0.00020500000000023277\n",
            "Time elapsed:  0.00017999999999984695\n",
            "Time elapsed:  0.0002030000000003973\n",
            "Time elapsed:  0.00020200000000025753\n",
            "Time elapsed:  0.00020599999999992846\n",
            "Time elapsed:  0.00017299999999975668\n",
            "Time elapsed:  0.00020699999999962415\n",
            "Time elapsed:  0.00015900000000002024\n",
            "Time elapsed:  0.00021099999999973917\n",
            "Time elapsed:  0.00020700000000006824\n",
            "Time elapsed:  0.0003390000000003113\n",
            "Time elapsed:  0.000248000000000026\n",
            "Time elapsed:  0.0002530000000002808\n",
            "Time elapsed:  0.00456700000000021\n",
            "Time elapsed:  0.0002369999999998207\n",
            "Time elapsed:  0.00021599999999999397\n",
            "Time elapsed:  0.00019999999999997797\n",
            "Time elapsed:  0.00022199999999994446\n",
            "Time elapsed:  0.00019999999999997797\n",
            "Time elapsed:  0.00019700000000000273\n",
            "Time elapsed:  0.0001989999999998382\n",
            "Time elapsed:  0.0001769999999998717\n",
            "Time elapsed:  0.0001980000000001425\n",
            "Time elapsed:  0.00019999999999997797\n",
            "Time elapsed:  0.0002140000000001585\n",
            "Time elapsed:  0.0002789999999999182\n",
            "Time elapsed:  0.0002849999999998687\n",
            "Time elapsed:  0.0002260000000000595\n",
            "Time elapsed:  0.00025500000000011624\n",
            "Time elapsed:  0.0002479999999995819\n",
            "Time elapsed:  0.00020600000000037255\n",
            "Time elapsed:  0.00022199999999994446\n",
            "Time elapsed:  0.00020499999999978868\n",
            "Time elapsed:  0.00020099999999967366\n",
            "Time elapsed:  0.0045320000000002025\n",
            "Time elapsed:  0.00023200000000000998\n",
            "Time elapsed:  0.0002090000000003478\n",
            "Time elapsed:  0.00020100000000011775\n",
            "Time elapsed:  0.00020099999999967366\n",
            "Time elapsed:  0.00016900000000008575\n",
            "Time elapsed:  0.00020800000000020802\n",
            "Time elapsed:  0.00020299999999995322\n",
            "Time elapsed:  0.0002089999999999037\n",
            "Time elapsed:  0.00016199999999999548\n",
            "Time elapsed:  0.00019700000000000273\n",
            "Time elapsed:  0.00020800000000020802\n",
            "Time elapsed:  0.0001660000000001105\n",
            "Time elapsed:  0.0001980000000001425\n",
            "Time elapsed:  0.00020199999999981344\n",
            "Time elapsed:  0.00021199999999987895\n",
            "Time elapsed:  0.00020700000000006824\n",
            "Time elapsed:  0.00020299999999995322\n",
            "Time elapsed:  0.000204000000000093\n",
            "Time elapsed:  0.00017600000000017602\n",
            "Time elapsed:  0.00018999999999991246\n",
            "Time elapsed:  0.00020599999999992846\n",
            "Time elapsed:  0.00021300000000001873\n",
            "Time elapsed:  0.00019700000000000273\n",
            "Time elapsed:  0.00020099999999967366\n",
            "Time elapsed:  0.0001020000000000465\n",
            "Time elapsed:  0.00022199999999994446\n",
            "Time elapsed:  9.999999999976694e-05\n",
            "Time elapsed:  0.00018600000000024153\n",
            "Time elapsed:  0.0002089999999999037\n",
            "Time elapsed:  0.00020299999999995322\n",
            "Time elapsed:  0.0001550000000003493\n",
            "Time elapsed:  0.00020299999999995322\n",
            "Time elapsed:  0.00020800000000020802\n",
            "Time elapsed:  0.00020299999999995322\n",
            "Time elapsed:  0.0002260000000000595\n",
            "Time elapsed:  0.00022900000000003473\n",
            "Time elapsed:  0.00021199999999987895\n",
            "Time elapsed:  0.00023799999999996047\n",
            "Time elapsed:  0.00023700000000026478\n",
            "Time elapsed:  0.00020499999999978868\n",
            "Time elapsed:  0.00010400000000032605\n",
            "Time elapsed:  0.00022200000000038855\n",
            "Time elapsed:  0.0001939999999995834\n",
            "Time elapsed:  0.00020100000000011775\n",
            "Time elapsed:  0.00020599999999992846\n",
            "Time elapsed:  0.00017999999999984695\n",
            "Time elapsed:  0.00010500000000002174\n",
            "Time elapsed:  0.00020499999999978868\n",
            "Time elapsed:  0.00020700000000006824\n",
            "Time elapsed:  0.00021700000000013375\n",
            "Time elapsed:  0.00021000000000004349\n",
            "Time elapsed:  0.0001989999999998382\n",
            "Time elapsed:  0.00021599999999999397\n",
            "Time elapsed:  0.0001020000000000465\n",
            "Time elapsed:  0.00021599999999999397\n",
            "Time elapsed:  0.00010099999999990672\n",
            "Time elapsed:  0.00021300000000001873\n",
            "Time elapsed:  0.00010299999999974219\n",
            "Time elapsed:  0.00020199999999981344\n",
            "Time elapsed:  0.00019999999999997797\n",
            "Time elapsed:  0.00020299999999995322\n",
            "Time elapsed:  0.0002089999999999037\n",
            "Time elapsed:  0.00016199999999999548\n",
            "Time elapsed:  0.00010600000000016152\n",
            "Time elapsed:  0.00021700000000013375\n",
            "Time elapsed:  0.00022900000000003473\n",
            "Time elapsed:  0.00016999999999978144\n",
            "Time elapsed:  0.00021500000000029829\n",
            "Time elapsed:  0.00020100000000011775\n",
            "Time elapsed:  0.00010400000000032605\n",
            "Time elapsed:  0.000188000000000077\n",
            "Time elapsed:  0.000204000000000093\n",
            "Time elapsed:  0.00021799999999982944\n",
            "Time elapsed:  0.00021199999999987895\n",
            "Time elapsed:  0.00021699999999968966\n",
            "Time elapsed:  0.0002249999999999197\n",
            "Time elapsed:  0.00022199999999994446\n",
            "Time elapsed:  0.00018699999999993722\n",
            "Time elapsed:  0.00023800000000040455\n",
            "Time elapsed:  0.00021700000000013375\n",
            "Time elapsed:  0.00021300000000001873\n",
            "Time elapsed:  0.00021300000000001873\n",
            "Time elapsed:  0.00021199999999987895\n",
            "Time elapsed:  0.00020800000000020802\n",
            "Time elapsed:  0.00025000000000030553\n",
            "Time elapsed:  0.00031399999999992545\n",
            "Time elapsed:  0.00021399999999971442\n",
            "Time elapsed:  0.00019799999999969842\n",
            "Time elapsed:  0.00016900000000008575\n",
            "Time elapsed:  0.00019599999999986295\n",
            "Time elapsed:  0.00020299999999995322\n",
            "Time elapsed:  0.00021199999999987895\n",
            "Time elapsed:  0.00019999999999997797\n",
            "Time elapsed:  0.00021000000000004349\n",
            "Time elapsed:  0.00016499999999997073\n",
            "Time elapsed:  0.0002260000000000595\n",
            "Time elapsed:  0.00020099999999967366\n",
            "Time elapsed:  0.0002030000000003973\n",
            "Time elapsed:  0.00019999999999997797\n",
            "Time elapsed:  0.0002090000000003478\n",
            "Time elapsed:  0.0002670000000000172\n",
            "Time elapsed:  0.00020700000000006824\n",
            "Time elapsed:  0.00016900000000008575\n",
            "Time elapsed:  0.00018999999999991246\n",
            "Time elapsed:  0.00021599999999999397\n",
            "Time elapsed:  0.00021000000000004349\n",
            "Time elapsed:  0.00024000000000024002\n",
            "Time elapsed:  0.00019200000000019202\n",
            "Time elapsed:  0.0001770000000003158\n",
            "Time elapsed:  0.00017500000000003624\n",
            "Time elapsed:  0.00023200000000000998\n",
            "Time elapsed:  0.00015299999999962566\n",
            "Time elapsed:  0.00014300000000000423\n",
            "Time elapsed:  0.00016400000000027504\n",
            "Time elapsed:  0.00016499999999997073\n",
            "Time elapsed:  0.00018599999999979744\n",
            "Time elapsed:  0.00018600000000024153\n",
            "Time elapsed:  0.00015199999999992997\n",
            "Time elapsed:  0.00017399999999989646\n",
            "Time elapsed:  0.00014599999999997948\n",
            "Time elapsed:  0.0001609999999998557\n",
            "Time elapsed:  0.000156000000000045\n",
            "Time elapsed:  0.0001669999999998062\n",
            "Time elapsed:  0.00016000000000016001\n",
            "Time elapsed:  0.00016799999999994597\n",
            "Time elapsed:  0.00014700000000011926\n",
            "Time elapsed:  0.00013700000000005375\n",
            "Time elapsed:  0.00014100000000016877\n",
            "Time elapsed:  0.00015199999999992997\n",
            "Time elapsed:  0.00013600000000035806\n",
            "Time elapsed:  0.00012999999999996348\n",
            "Time elapsed:  0.00013699999999960966\n",
            "Time elapsed:  0.00015499999999990521\n",
            "Time elapsed:  9.499999999995623e-05\n",
            "Time elapsed:  8.799999999986596e-05\n",
            "Time elapsed:  8.699999999972619e-05\n",
            "Time elapsed:  8.300000000005525e-05\n",
            "Time elapsed:  8.399999999975094e-05\n",
            "Time elapsed:  8.400000000019503e-05\n",
            "Time elapsed:  0.0001989999999998382\n",
            "Time elapsed:  0.0002469999999998862\n",
            "Time elapsed:  0.00020200000000025753\n",
            "Time elapsed:  0.00017099999999992122\n",
            "Time elapsed:  0.00019700000000000273\n",
            "Time elapsed:  0.00020299999999995322\n",
            "Time elapsed:  0.00015199999999992997\n",
            "Time elapsed:  0.00019400000000002748\n",
            "Time elapsed:  0.00015700000000018477\n",
            "Time elapsed:  0.00013799999999974943\n",
            "Time elapsed:  0.0002249999999999197\n",
            "Time elapsed:  0.0001669999999998062\n",
            "Time elapsed:  0.00025099999999955713\n",
            "Time elapsed:  0.00021899999999952513\n",
            "Time elapsed:  0.00018999999999991246\n",
            "Time elapsed:  0.00023399999999984544\n",
            "Time elapsed:  0.0002190000000004133\n",
            "Time elapsed:  0.0001939999999995834\n",
            "Time elapsed:  0.0002190000000004133\n",
            "Time elapsed:  0.00022600000000050358\n",
            "Time elapsed:  0.0002089999999999037\n",
            "Time elapsed:  0.0001829999999998222\n",
            "Time elapsed:  0.00015800000000076864\n"
          ],
          "name": "stdout"
        }
      ]
    },
    {
      "cell_type": "code",
      "metadata": {
        "id": "y75IbZfAKVfN",
        "colab": {
          "base_uri": "https://localhost:8080/",
          "height": 34
        },
        "outputId": "ce9ceae1-0c71-4a16-ec5b-a05072a30636"
      },
      "source": [
        "# absolute error\n",
        "errors = []\n",
        "for i in range(len(output_rates)):\n",
        "  errors.append(abs(output_rates[i]-reference[i]))\n",
        "print(np.mean(errors))"
      ],
      "execution_count": null,
      "outputs": [
        {
          "output_type": "stream",
          "text": [
            "11.883259911894273\n"
          ],
          "name": "stdout"
        }
      ]
    },
    {
      "cell_type": "code",
      "metadata": {
        "id": "C6kQGZXMBga0",
        "colab": {
          "base_uri": "https://localhost:8080/",
          "height": 51
        },
        "outputId": "b56932d4-4398-44ed-ce74-6a1021845dba"
      },
      "source": [
        "output_rates = np.asarray(output_rates)\n",
        "print(output_rates.shape)\n",
        "print(reference[:300].shape)"
      ],
      "execution_count": null,
      "outputs": [
        {
          "output_type": "stream",
          "text": [
            "(454,)\n",
            "(300,)\n"
          ],
          "name": "stdout"
        }
      ]
    },
    {
      "cell_type": "code",
      "metadata": {
        "id": "GH9Eod4HJ3T_"
      },
      "source": [
        "output_rates = output_rates.flatten()"
      ],
      "execution_count": null,
      "outputs": []
    },
    {
      "cell_type": "code",
      "metadata": {
        "id": "qYFcfMEeJ5xC"
      },
      "source": [
        "output_rates = np.reshape(output_rates, [len(output_rates)])"
      ],
      "execution_count": null,
      "outputs": []
    },
    {
      "cell_type": "code",
      "metadata": {
        "id": "sZFzkew6KKQ9",
        "colab": {
          "base_uri": "https://localhost:8080/",
          "height": 282
        },
        "outputId": "a9abdafc-ef86-48c2-ee0f-33e4dbf597c1"
      },
      "source": [
        "plt.step(output_rates,'r')\n",
        "plt.step(reference,'b')"
      ],
      "execution_count": null,
      "outputs": [
        {
          "output_type": "execute_result",
          "data": {
            "text/plain": [
              "[<matplotlib.lines.Line2D at 0x7f7ede84b400>]"
            ]
          },
          "metadata": {
            "tags": []
          },
          "execution_count": 24
        },
        {
          "output_type": "display_data",
          "data": {
            "image/png": "[encoded data removed]",
            "text/plain": [
              "<Figure size 432x288 with 1 Axes>"
            ]
          },
          "metadata": {
            "tags": [],
            "needs_background": "light"
          }
        }
      ]
    },
    {
      "cell_type": "markdown",
      "metadata": {
        "id": "eRGRdcr0HUH0"
      },
      "source": [
        "#Numerical Evaluation"
      ]
    },
    {
      "cell_type": "code",
      "metadata": {
        "id": "RLfvXorj3wvb"
      },
      "source": [
        "import math"
      ],
      "execution_count": null,
      "outputs": []
    },
    {
      "cell_type": "code",
      "metadata": {
        "id": "KeqeRmN4C6KK"
      },
      "source": [
        "# Normalize signal\n",
        "def mynormalize(sig):\n",
        "  avg = np.mean(sig)\n",
        "  sig = sig - np.ones_like(sig)*avg\n",
        "  sig = sig / np.max(sig)\n",
        "  return sig\n",
        "\n",
        "def myNorm(sig,ref):\n",
        "    breathset2 = sig\n",
        "    breathset1 = ref\n",
        "    breathset1 = breathset1 - np.mean(breathset1)\n",
        "    breathset2 = breathset2 - np.mean(breathset2)\n",
        "    if (breathset1.size == 0):\n",
        "        return None, None\n",
        "    else:\n",
        "        if (math.isnan(np.max(breathset1))):\n",
        "            return None, None\n",
        "        else:\n",
        "            breathset1 = breathset1 / np.max(breathset1)\n",
        "            breathset2 = breathset2 / np.max(breathset2)\n",
        "            return breathset2, breathset1\n",
        "\n",
        "RMSEs = []\n",
        "MAEs = []\n",
        "Coeffs =[]\n",
        "for i in range(0,len(output_rates)-200,200):\n",
        "    #sig_normed, ref_normed = myNorm(output_rates[i:(i+200)],reference[i:(i+200)])\n",
        "    if (True):\n",
        "        RMSEs.append(RMSE(output_rates[i:(i+200)],reference[i:(i+200)]))\n",
        "        Coeffs.append(wBasedPearson(output_rates[i:(i+200)],reference[i:(i+200)]))\n",
        "        MAEs.append(MAE(output_rates[i:(i+200)],reference[i:(i+200)]))"
      ],
      "execution_count": null,
      "outputs": []
    },
    {
      "cell_type": "code",
      "metadata": {
        "id": "dZxQHqv-Hibe",
        "colab": {
          "base_uri": "https://localhost:8080/",
          "height": 69
        },
        "outputId": "36797067-a9db-4c66-f659-a1b60b3b742b"
      },
      "source": [
        "print(np.mean(RMSEs))\n",
        "print(np.mean(Coeffs))\n",
        "print(np.mean(MAEs))"
      ],
      "execution_count": null,
      "outputs": [
        {
          "output_type": "stream",
          "text": [
            "16.866912683537684\n",
            "0.16245805058148022\n",
            "11.9525\n"
          ],
          "name": "stdout"
        }
      ]
    },
    {
      "cell_type": "markdown",
      "metadata": {
        "id": "ot_dDLIZJMev"
      },
      "source": [
        "# Save evaluation"
      ]
    },
    {
      "cell_type": "code",
      "metadata": {
        "id": "1jnGeAau2bsy",
        "colab": {
          "base_uri": "https://localhost:8080/",
          "height": 121
        },
        "outputId": "df31480b-0889-4711-a155-8f155d6e2deb"
      },
      "source": [
        "saveToFile(\"output/\",\"CalcRate-on-Breathset-2020-04-28\",output_rates)\n",
        "saveToFile(\"output/\",\"CalcRate-on-Breathset-2020-04-28-ref\",reference)"
      ],
      "execution_count": null,
      "outputs": [
        {
          "output_type": "stream",
          "text": [
            "Save to this file:output/CalcRate-on-Breathset-2020-04-28\n",
            "...\n",
            "saved\n",
            "Save to this file:output/CalcRate-on-Breathset-2020-04-28-ref\n",
            "...\n",
            "saved\n"
          ],
          "name": "stdout"
        }
      ]
    },
    {
      "cell_type": "code",
      "metadata": {
        "id": "k8B5FcmCJi8O"
      },
      "source": [
        ""
      ],
      "execution_count": null,
      "outputs": []
    }
  ]
}